{
 "cells": [
  {
   "cell_type": "code",
   "execution_count": 8,
   "id": "746c8e9b",
   "metadata": {},
   "outputs": [
    {
     "name": "stdout",
     "output_type": "stream",
     "text": [
      "11\n",
      "5 11 14 17 23 26 29 35 38 41 47 "
     ]
    }
   ],
   "source": [
    "n = int(input())\n",
    "j = 1\n",
    "for i in range(1,n+1):\n",
    "    while True:\n",
    "        num=3*j+2\n",
    "        if num%4!=0:\n",
    "            print(num,end=' ')\n",
    "            break\n",
    "        else:\n",
    "            j=j+1\n",
    "    j=j+1"
   ]
  },
  {
   "cell_type": "code",
   "execution_count": 11,
   "id": "4ecf8b63",
   "metadata": {},
   "outputs": [
    {
     "name": "stdout",
     "output_type": "stream",
     "text": [
      "7\n",
      "111\n"
     ]
    }
   ],
   "source": [
    "n = int(input())\n",
    "bin_num = ''\n",
    "while n!=0:\n",
    "    rem = n%2\n",
    "    n = n//2\n",
    "    bin_num = bin_num + str(rem)\n",
    "bin_num = bin_num[::-1]\n",
    "print(int(bin_num))"
   ]
  },
  {
   "cell_type": "code",
   "execution_count": 14,
   "id": "5fae601d",
   "metadata": {},
   "outputs": [
    {
     "name": "stdout",
     "output_type": "stream",
     "text": [
      "1100\n",
      "12\n"
     ]
    }
   ],
   "source": [
    "n = int(input())\n",
    "i=0\n",
    "num = 0\n",
    "while n!=0:\n",
    "    rem = n%10\n",
    "    num = num+rem*pow(2,i)\n",
    "    n=n//10\n",
    "    i=i+1\n",
    "print(num)"
   ]
  },
  {
   "cell_type": "code",
   "execution_count": 2,
   "id": "c00bca7f",
   "metadata": {},
   "outputs": [
    {
     "name": "stdout",
     "output_type": "stream",
     "text": [
      "400\n",
      "188\n"
     ]
    }
   ],
   "source": [
    "n = int(input())\n",
    "f1 = 1\n",
    "f2 = 1\n",
    "fib = 0\n",
    "sum = 0\n",
    "ans = 0\n",
    "while sum<=n:\n",
    "    ans = sum\n",
    "    fib = f1 + f2\n",
    "    f1 = f2\n",
    "    f2 = fib\n",
    "    if fib%2==0:\n",
    "        sum = sum + fib\n",
    "print(ans)"
   ]
  },
  {
   "cell_type": "code",
   "execution_count": 4,
   "id": "f23f92f7",
   "metadata": {},
   "outputs": [
    {
     "name": "stdout",
     "output_type": "stream",
     "text": [
      "11\n",
      "2\n"
     ]
    }
   ],
   "source": [
    "n = int(input())\n",
    "fact = 1\n",
    "for i in range(1,n+1):\n",
    "    fact = fact * i\n",
    "count = 0\n",
    "while True:\n",
    "    rem = fact%10\n",
    "    if rem!=0:\n",
    "        break\n",
    "    count = count+1\n",
    "    fact = fact//10\n",
    "print(count)"
   ]
  },
  {
   "cell_type": "code",
   "execution_count": 2,
   "id": "501d92b0",
   "metadata": {},
   "outputs": [
    {
     "name": "stdout",
     "output_type": "stream",
     "text": [
      "10\n",
      "5 11 14 17 23 26 29 "
     ]
    }
   ],
   "source": [
    "n = int(input())\n",
    "for i in range(1,n+1):\n",
    "    num = 3*i+2\n",
    "    if num%4!=0:\n",
    "        print(num,end=' ')"
   ]
  },
  {
   "cell_type": "code",
   "execution_count": 3,
   "id": "c48a9521",
   "metadata": {},
   "outputs": [
    {
     "name": "stdout",
     "output_type": "stream",
     "text": [
      "10\n",
      "5 11 14 17 23 26 29 35 38 41 "
     ]
    }
   ],
   "source": [
    "n = int(input())\n",
    "i = 1\n",
    "count = 1\n",
    "while count<=n:\n",
    "    num = 3*i+2\n",
    "    if num%4!=0:\n",
    "        print(num,end=' ')\n",
    "        count = count+1\n",
    "    i = i+1"
   ]
  },
  {
   "cell_type": "code",
   "execution_count": 6,
   "id": "1479dfcc",
   "metadata": {},
   "outputs": [
    {
     "name": "stdout",
     "output_type": "stream",
     "text": [
      "26\n",
      "5\n"
     ]
    }
   ],
   "source": [
    "n = int(input())\n",
    "for i in range(1,n//2):\n",
    "    if i*i == n:\n",
    "        print(i)\n",
    "        break\n",
    "    elif i*i > n:\n",
    "        print(i-1)\n",
    "        break"
   ]
  },
  {
   "cell_type": "code",
   "execution_count": 15,
   "id": "8f99bb0d",
   "metadata": {},
   "outputs": [
    {
     "name": "stdout",
     "output_type": "stream",
     "text": [
      "12\n",
      "1100\n"
     ]
    }
   ],
   "source": [
    "n = int(input())\n",
    "binary = ''\n",
    "while n!=0:\n",
    "    rem = n%2\n",
    "    binary = binary + str(rem)\n",
    "    n = n//2\n",
    "print(binary[::-1])"
   ]
  }
 ],
 "metadata": {
  "kernelspec": {
   "display_name": "Python 3 (ipykernel)",
   "language": "python",
   "name": "python3"
  },
  "language_info": {
   "codemirror_mode": {
    "name": "ipython",
    "version": 3
   },
   "file_extension": ".py",
   "mimetype": "text/x-python",
   "name": "python",
   "nbconvert_exporter": "python",
   "pygments_lexer": "ipython3",
   "version": "3.10.1"
  }
 },
 "nbformat": 4,
 "nbformat_minor": 5
}
