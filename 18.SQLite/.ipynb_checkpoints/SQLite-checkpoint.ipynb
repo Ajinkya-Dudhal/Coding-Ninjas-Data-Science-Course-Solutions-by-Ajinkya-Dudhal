{
 "cells": [
  {
   "cell_type": "code",
   "execution_count": 84,
   "id": "e41a4685",
   "metadata": {},
   "outputs": [],
   "source": [
    "import matplotlib.pyplot as plt\n",
    "import pandas as pd\n",
    "import numpy as np\n",
    "import sqlite3"
   ]
  },
  {
   "cell_type": "code",
   "execution_count": 8,
   "id": "64d13f28",
   "metadata": {},
   "outputs": [],
   "source": [
    "db = sqlite3.connect('School.sqlite')\n",
    "cur = db.cursor()"
   ]
  },
  {
   "cell_type": "code",
   "execution_count": null,
   "id": "45b640b3",
   "metadata": {},
   "outputs": [],
   "source": [
    "cur.execute('CREATE TABLE Student (RollNumber int PRIMARY KEY,Name Text,Age int)')"
   ]
  },
  {
   "cell_type": "code",
   "execution_count": 9,
   "id": "c22a5cb0",
   "metadata": {},
   "outputs": [
    {
     "data": {
      "text/plain": [
       "<sqlite3.Cursor at 0x13254966d40>"
      ]
     },
     "execution_count": 9,
     "metadata": {},
     "output_type": "execute_result"
    }
   ],
   "source": [
    "cur.execute('INSERT INTO Student VALUES(101,\"Aman\",20)')"
   ]
  },
  {
   "cell_type": "code",
   "execution_count": 11,
   "id": "cb05f78f",
   "metadata": {},
   "outputs": [
    {
     "data": {
      "text/plain": [
       "<sqlite3.Cursor at 0x13254966d40>"
      ]
     },
     "execution_count": 11,
     "metadata": {},
     "output_type": "execute_result"
    }
   ],
   "source": [
    "cur.execute('INSERT INTO Student VALUES(102,\"Amit\",21)')"
   ]
  },
  {
   "cell_type": "code",
   "execution_count": 12,
   "id": "86b31af3",
   "metadata": {},
   "outputs": [],
   "source": [
    "db.commit()"
   ]
  },
  {
   "cell_type": "code",
   "execution_count": 13,
   "id": "d2d3d1cb",
   "metadata": {},
   "outputs": [],
   "source": [
    "db.close()"
   ]
  },
  {
   "cell_type": "code",
   "execution_count": 14,
   "id": "4887528b",
   "metadata": {},
   "outputs": [],
   "source": [
    "db2 = sqlite3.connect('Employee.sqlite')\n",
    "cur2 = db.cursor()"
   ]
  },
  {
   "cell_type": "code",
   "execution_count": 15,
   "id": "ec682f96",
   "metadata": {},
   "outputs": [
    {
     "data": {
      "text/plain": [
       "<sqlite3.Cursor at 0x13254965dc0>"
      ]
     },
     "execution_count": 15,
     "metadata": {},
     "output_type": "execute_result"
    }
   ],
   "source": [
    "cur2.execute('CREATE TABLE EmployeeDetails (employee_id int PRIMARY KEY,name Text,age int,department Text,salary int)')"
   ]
  },
  {
   "cell_type": "code",
   "execution_count": 18,
   "id": "85f355fb",
   "metadata": {},
   "outputs": [
    {
     "data": {
      "text/plain": [
       "<sqlite3.Cursor at 0x13254965dc0>"
      ]
     },
     "execution_count": 18,
     "metadata": {},
     "output_type": "execute_result"
    }
   ],
   "source": [
    "cur2.execute('INSERT INTO EmployeeDetails VALUES(100,\"Rishav\",25,\"Marketing\",50000)')"
   ]
  },
  {
   "cell_type": "code",
   "execution_count": 20,
   "id": "eaa664b0",
   "metadata": {},
   "outputs": [
    {
     "data": {
      "text/plain": [
       "<sqlite3.Cursor at 0x13254965dc0>"
      ]
     },
     "execution_count": 20,
     "metadata": {},
     "output_type": "execute_result"
    }
   ],
   "source": [
    "cur2.execute('INSERT INTO EmployeeDetails VALUES(101,\"Abhishek\",26,\"Operations\",60000)')"
   ]
  },
  {
   "cell_type": "code",
   "execution_count": 22,
   "id": "71085e49",
   "metadata": {},
   "outputs": [
    {
     "data": {
      "text/plain": [
       "<sqlite3.Cursor at 0x13254965dc0>"
      ]
     },
     "execution_count": 22,
     "metadata": {},
     "output_type": "execute_result"
    }
   ],
   "source": [
    "cur2.execute('INSERT INTO EmployeeDetails VALUES(102,\"Aman\",24,\"Human Resource\",75000)')"
   ]
  },
  {
   "cell_type": "code",
   "execution_count": 23,
   "id": "93130f0a",
   "metadata": {},
   "outputs": [],
   "source": [
    "db2.commit()"
   ]
  },
  {
   "cell_type": "code",
   "execution_count": 26,
   "id": "c6fd7b63",
   "metadata": {},
   "outputs": [],
   "source": [
    "db1 = sqlite3.connect('School.sqlite')\n",
    "cur1 = db1.cursor()"
   ]
  },
  {
   "cell_type": "code",
   "execution_count": 27,
   "id": "aac705a2",
   "metadata": {},
   "outputs": [],
   "source": [
    "RollNumber = 103\n",
    "Name = \"Nikhil\"\n",
    "Age = 34\n",
    "cur1.execute('INSERT INTO Student VALUES(?,?,?)',(RollNumber,Name,Age))\n",
    "db1.commit()"
   ]
  },
  {
   "cell_type": "code",
   "execution_count": 29,
   "id": "6abc7332",
   "metadata": {},
   "outputs": [],
   "source": [
    "values = [(105,\"Nidhi\",20),(106,\"Manisha\",21),(107,\"Ankush\",22)]\n",
    "cur1.executemany('INSERT INTO Student VALUES (?,?,?)',values)\n",
    "db1.commit()"
   ]
  },
  {
   "cell_type": "code",
   "execution_count": 30,
   "id": "a2e29ba8",
   "metadata": {},
   "outputs": [],
   "source": [
    "new_age = 27\n",
    "cur1.execute('UPDATE Student SET Age = ? WHERE Age = 20',(new_age,))\n",
    "db1.commit()"
   ]
  },
  {
   "cell_type": "code",
   "execution_count": 31,
   "id": "e017009a",
   "metadata": {},
   "outputs": [],
   "source": [
    "db2 = sqlite3.connect('Employee.sqlite')\n",
    "cur2 = db2.cursor()"
   ]
  },
  {
   "cell_type": "code",
   "execution_count": 33,
   "id": "72846693",
   "metadata": {},
   "outputs": [],
   "source": [
    "id = 101\n",
    "cur2.execute('DELETE FROM EmployeeDetails WHERE employee_id = ?',(id,))\n",
    "db2.commit()"
   ]
  },
  {
   "cell_type": "code",
   "execution_count": 34,
   "id": "b1191e5a",
   "metadata": {},
   "outputs": [],
   "source": [
    "db2 = sqlite3.connect('Employee.sqlite')\n",
    "cur2 = db2.cursor()\n",
    "cur2.execute('DELETE FROM EmployeeDetails WHERE employee_id = 102')\n",
    "db2.commit()"
   ]
  },
  {
   "cell_type": "code",
   "execution_count": 36,
   "id": "0061330c",
   "metadata": {},
   "outputs": [],
   "source": [
    "values = [(101,\"Aadarsh\",25,\"Marketing\",50000),(102,\"Aarti\",27,\"Operations\",60000),(103,\"Siddharth\",25,\"Finance\",85000),(104,\"Aman\",24,\"Human Resource\",75000),(105,\"Amit\",24,\"Marketing\",50000),(106,\"Shivansh\",26,\"IT\",90000),(107,\"Vaihav\",23,\"Finance\",85000),(108,\"Himanshu\",26,\"IT\",90000),(109,\"Raman\",25,\"Operations\",60000),(110,\"Kunal\",26,\"Marketing\",50000),(111,\"Adhira\",29,\"Human Resource\",50000),(112,\"Tanya\",24,\"Marketing\",50000)]\n",
    "cur2.executemany('INSERT INTO EmployeeDetails VALUES(?,?,?,?,?)',values)\n",
    "db2.commit()"
   ]
  },
  {
   "cell_type": "code",
   "execution_count": 37,
   "id": "cf6c9c32",
   "metadata": {},
   "outputs": [],
   "source": [
    "db1 = sqlite3.connect('School.sqlite')\n",
    "cur1 = db1.cursor()"
   ]
  },
  {
   "cell_type": "code",
   "execution_count": 40,
   "id": "83710c8e",
   "metadata": {},
   "outputs": [
    {
     "name": "stdout",
     "output_type": "stream",
     "text": [
      "(101, 'Aman', 27)\n",
      "(102, 'Amit', 21)\n",
      "(103, 'Nikhil', 34)\n",
      "(105, 'Nidhi', 27)\n",
      "(106, 'Manisha', 21)\n",
      "(107, 'Ankush', 22)\n"
     ]
    }
   ],
   "source": [
    "cur1.execute('SELECT * FROM Student')\n",
    "for row in cur1:\n",
    "    print(row)"
   ]
  },
  {
   "cell_type": "code",
   "execution_count": 42,
   "id": "0376bffc",
   "metadata": {},
   "outputs": [
    {
     "data": {
      "text/plain": [
       "(101, 'Aman', 27)"
      ]
     },
     "execution_count": 42,
     "metadata": {},
     "output_type": "execute_result"
    }
   ],
   "source": [
    "cur1.execute('SELECT * FROM Student')\n",
    "cur1.fetchone()"
   ]
  },
  {
   "cell_type": "code",
   "execution_count": 43,
   "id": "1017a146",
   "metadata": {},
   "outputs": [
    {
     "data": {
      "text/plain": [
       "[(102, 'Amit', 21), (103, 'Nikhil', 34), (105, 'Nidhi', 27)]"
      ]
     },
     "execution_count": 43,
     "metadata": {},
     "output_type": "execute_result"
    }
   ],
   "source": [
    "cur1.fetchmany(3)"
   ]
  },
  {
   "cell_type": "code",
   "execution_count": 44,
   "id": "8d97f608",
   "metadata": {},
   "outputs": [
    {
     "data": {
      "text/plain": [
       "[(106, 'Manisha', 21), (107, 'Ankush', 22)]"
      ]
     },
     "execution_count": 44,
     "metadata": {},
     "output_type": "execute_result"
    }
   ],
   "source": [
    "cur1.fetchall()"
   ]
  },
  {
   "cell_type": "code",
   "execution_count": 45,
   "id": "ceefbbd3",
   "metadata": {},
   "outputs": [
    {
     "data": {
      "text/plain": [
       "[(101, 'Aman', 27), (102, 'Amit', 21), (107, 'Ankush', 22)]"
      ]
     },
     "execution_count": 45,
     "metadata": {},
     "output_type": "execute_result"
    }
   ],
   "source": [
    "cur1.execute('SELECT * FROM Student WHERE Name LIKE \"A%\"')\n",
    "cur1.fetchall()"
   ]
  },
  {
   "cell_type": "code",
   "execution_count": 46,
   "id": "8e453ba2",
   "metadata": {},
   "outputs": [],
   "source": [
    "db2 = sqlite3.connect('Employee.sqlite')\n",
    "cur2 = db2.cursor()"
   ]
  },
  {
   "cell_type": "code",
   "execution_count": 53,
   "id": "f3655732",
   "metadata": {},
   "outputs": [
    {
     "name": "stdout",
     "output_type": "stream",
     "text": [
      "103\n",
      "107\n"
     ]
    }
   ],
   "source": [
    "cur2.execute('SELECT employee_id FROM EmployeeDetails WHERE department = \"Finance\"')\n",
    "ans = cur2.fetchall()\n",
    "for i in ans:\n",
    "    for j in i:\n",
    "        print(j)"
   ]
  },
  {
   "cell_type": "code",
   "execution_count": 56,
   "id": "354775fa",
   "metadata": {},
   "outputs": [
    {
     "name": "stdout",
     "output_type": "stream",
     "text": [
      "Finance 2 \n",
      "Human Resource 2 \n",
      "IT 2 \n",
      "Marketing 5 \n",
      "Operations 2 \n"
     ]
    }
   ],
   "source": [
    "cur2.execute('SELECT department,count(employee_id) FROM EmployeeDetails GROUP BY department')\n",
    "ans = cur2.fetchall()\n",
    "for i in ans:\n",
    "    for j in i:\n",
    "        print(j,end=' ')\n",
    "    print()"
   ]
  },
  {
   "cell_type": "code",
   "execution_count": 2,
   "id": "44c8e5b8",
   "metadata": {},
   "outputs": [
    {
     "data": {
      "text/html": [
       "<div>\n",
       "<style scoped>\n",
       "    .dataframe tbody tr th:only-of-type {\n",
       "        vertical-align: middle;\n",
       "    }\n",
       "\n",
       "    .dataframe tbody tr th {\n",
       "        vertical-align: top;\n",
       "    }\n",
       "\n",
       "    .dataframe thead th {\n",
       "        text-align: right;\n",
       "    }\n",
       "</style>\n",
       "<table border=\"1\" class=\"dataframe\">\n",
       "  <thead>\n",
       "    <tr style=\"text-align: right;\">\n",
       "      <th></th>\n",
       "      <th>RollNumber</th>\n",
       "      <th>Name</th>\n",
       "      <th>Age</th>\n",
       "    </tr>\n",
       "  </thead>\n",
       "  <tbody>\n",
       "    <tr>\n",
       "      <th>0</th>\n",
       "      <td>101</td>\n",
       "      <td>Aman</td>\n",
       "      <td>27</td>\n",
       "    </tr>\n",
       "    <tr>\n",
       "      <th>1</th>\n",
       "      <td>102</td>\n",
       "      <td>Amit</td>\n",
       "      <td>21</td>\n",
       "    </tr>\n",
       "    <tr>\n",
       "      <th>2</th>\n",
       "      <td>103</td>\n",
       "      <td>Nikhil</td>\n",
       "      <td>34</td>\n",
       "    </tr>\n",
       "    <tr>\n",
       "      <th>3</th>\n",
       "      <td>105</td>\n",
       "      <td>Nidhi</td>\n",
       "      <td>27</td>\n",
       "    </tr>\n",
       "    <tr>\n",
       "      <th>4</th>\n",
       "      <td>106</td>\n",
       "      <td>Manisha</td>\n",
       "      <td>21</td>\n",
       "    </tr>\n",
       "    <tr>\n",
       "      <th>5</th>\n",
       "      <td>107</td>\n",
       "      <td>Ankush</td>\n",
       "      <td>22</td>\n",
       "    </tr>\n",
       "  </tbody>\n",
       "</table>\n",
       "</div>"
      ],
      "text/plain": [
       "   RollNumber     Name  Age\n",
       "0         101     Aman   27\n",
       "1         102     Amit   21\n",
       "2         103   Nikhil   34\n",
       "3         105    Nidhi   27\n",
       "4         106  Manisha   21\n",
       "5         107   Ankush   22"
      ]
     },
     "execution_count": 2,
     "metadata": {},
     "output_type": "execute_result"
    }
   ],
   "source": [
    "db1 = sqlite3.connect('School.sqlite')\n",
    "data = pd.read_sql_query('SELECT * FROM Student',db1)\n",
    "data"
   ]
  },
  {
   "cell_type": "code",
   "execution_count": 5,
   "id": "0198337a",
   "metadata": {},
   "outputs": [
    {
     "data": {
      "text/html": [
       "<div>\n",
       "<style scoped>\n",
       "    .dataframe tbody tr th:only-of-type {\n",
       "        vertical-align: middle;\n",
       "    }\n",
       "\n",
       "    .dataframe tbody tr th {\n",
       "        vertical-align: top;\n",
       "    }\n",
       "\n",
       "    .dataframe thead th {\n",
       "        text-align: right;\n",
       "    }\n",
       "</style>\n",
       "<table border=\"1\" class=\"dataframe\">\n",
       "  <thead>\n",
       "    <tr style=\"text-align: right;\">\n",
       "      <th></th>\n",
       "      <th>RollNumber</th>\n",
       "      <th>Name</th>\n",
       "      <th>Age</th>\n",
       "    </tr>\n",
       "  </thead>\n",
       "  <tbody>\n",
       "    <tr>\n",
       "      <th>1</th>\n",
       "      <td>102</td>\n",
       "      <td>Amit</td>\n",
       "      <td>21</td>\n",
       "    </tr>\n",
       "    <tr>\n",
       "      <th>4</th>\n",
       "      <td>106</td>\n",
       "      <td>Manisha</td>\n",
       "      <td>21</td>\n",
       "    </tr>\n",
       "  </tbody>\n",
       "</table>\n",
       "</div>"
      ],
      "text/plain": [
       "   RollNumber     Name  Age\n",
       "1         102     Amit   21\n",
       "4         106  Manisha   21"
      ]
     },
     "execution_count": 5,
     "metadata": {},
     "output_type": "execute_result"
    }
   ],
   "source": [
    "data[data['Age']==21]"
   ]
  },
  {
   "cell_type": "code",
   "execution_count": 6,
   "id": "a3f89b6e",
   "metadata": {},
   "outputs": [
    {
     "data": {
      "text/html": [
       "<div>\n",
       "<style scoped>\n",
       "    .dataframe tbody tr th:only-of-type {\n",
       "        vertical-align: middle;\n",
       "    }\n",
       "\n",
       "    .dataframe tbody tr th {\n",
       "        vertical-align: top;\n",
       "    }\n",
       "\n",
       "    .dataframe thead th {\n",
       "        text-align: right;\n",
       "    }\n",
       "</style>\n",
       "<table border=\"1\" class=\"dataframe\">\n",
       "  <thead>\n",
       "    <tr style=\"text-align: right;\">\n",
       "      <th></th>\n",
       "      <th>ID</th>\n",
       "      <th>Name</th>\n",
       "      <th>Course</th>\n",
       "      <th>Salary</th>\n",
       "    </tr>\n",
       "  </thead>\n",
       "  <tbody>\n",
       "    <tr>\n",
       "      <th>0</th>\n",
       "      <td>201</td>\n",
       "      <td>Aman</td>\n",
       "      <td>English</td>\n",
       "      <td>20000</td>\n",
       "    </tr>\n",
       "    <tr>\n",
       "      <th>1</th>\n",
       "      <td>202</td>\n",
       "      <td>Komal</td>\n",
       "      <td>Maths</td>\n",
       "      <td>22000</td>\n",
       "    </tr>\n",
       "    <tr>\n",
       "      <th>2</th>\n",
       "      <td>203</td>\n",
       "      <td>Mahesh</td>\n",
       "      <td>Science</td>\n",
       "      <td>23000</td>\n",
       "    </tr>\n",
       "  </tbody>\n",
       "</table>\n",
       "</div>"
      ],
      "text/plain": [
       "    ID    Name   Course  Salary\n",
       "0  201    Aman  English   20000\n",
       "1  202   Komal    Maths   22000\n",
       "2  203  Mahesh  Science   23000"
      ]
     },
     "execution_count": 6,
     "metadata": {},
     "output_type": "execute_result"
    }
   ],
   "source": [
    "data = pd.DataFrame([[201,\"Aman\",\"English\",20000],[202,\"Komal\",\"Maths\",22000],[203,\"Mahesh\",\"Science\",23000]],columns=[\"ID\",\"Name\",\"Course\",\"Salary\"])\n",
    "data"
   ]
  },
  {
   "cell_type": "code",
   "execution_count": 7,
   "id": "80f03950",
   "metadata": {},
   "outputs": [
    {
     "data": {
      "text/plain": [
       "3"
      ]
     },
     "execution_count": 7,
     "metadata": {},
     "output_type": "execute_result"
    }
   ],
   "source": [
    "data.to_sql(\"Faculty\",db1)"
   ]
  },
  {
   "cell_type": "code",
   "execution_count": 10,
   "id": "46b7c0f6",
   "metadata": {},
   "outputs": [
    {
     "data": {
      "text/plain": [
       "6"
      ]
     },
     "execution_count": 10,
     "metadata": {},
     "output_type": "execute_result"
    }
   ],
   "source": [
    "db1 = sqlite3.connect('School.sqlite')\n",
    "data = pd.read_sql_query('SELECT * FROM Student',db1)\n",
    "data['Address'] = 'Test'\n",
    "data.to_sql(\"Student\",db1,if_exists=\"replace\")"
   ]
  },
  {
   "cell_type": "markdown",
   "id": "0aecd262",
   "metadata": {},
   "source": [
    "# Problem 4 : Count Genre\n",
    "IMDB.sqlite' database contains all details of movies and has three tables with name IMDB, genre and earning.\n",
    "Find the count of each genre present in IMDB movie dataset?\n",
    "Print the Genre and number of movies present in that genre.\n",
    "\n",
    "Note: Ignore the empty value present in genre"
   ]
  },
  {
   "cell_type": "code",
   "execution_count": 33,
   "id": "d89931ba",
   "metadata": {},
   "outputs": [
    {
     "name": "stdout",
     "output_type": "stream",
     "text": [
      "Action 33\n",
      "Adventure 43\n",
      "Animation 13\n",
      "Biography 21\n",
      "Comedy 31\n",
      "Crime 11\n",
      "Drama 77\n",
      "Family 3\n",
      "Fantasy 7\n",
      "History 6\n",
      "Horror 2\n",
      "Music 3\n",
      "Musical 1\n",
      "Mystery 7\n",
      "Romance 13\n",
      "Sci-Fi 18\n",
      "Sport 3\n",
      "Thriller 14\n",
      "War 2\n",
      "Western 2\n"
     ]
    }
   ],
   "source": [
    "db = sqlite3.connect('IMDB.sqlite')\n",
    "genre_data = pd.read_sql_query('SELECT genre,count(genre) FROM genre GROUP BY genre',db)\n",
    "genre_data = genre_data[genre_data[\"genre\"]!='']\n",
    "# print(genre_data)\n",
    "\n",
    "for i in range(genre_data.shape[0]):\n",
    "    print(genre_data.iloc[i,0],genre_data.iloc[i,1])\n",
    "db.close()"
   ]
  },
  {
   "cell_type": "markdown",
   "id": "eb8c88eb",
   "metadata": {},
   "source": [
    "# Problem 5 : IMDB Movie\n",
    "'IMDB.sqlite' database contains all details of movies and has three tables with name IMDB, genre and earning.\n",
    "Find the highest-grossing movie (i.e domestic earning + worldwide earning) in IMDB database.\n",
    "Print the rating of that movie."
   ]
  },
  {
   "cell_type": "code",
   "execution_count": 56,
   "id": "5b49d44d",
   "metadata": {},
   "outputs": [
    {
     "data": {
      "text/plain": [
       "8.1"
      ]
     },
     "execution_count": 56,
     "metadata": {},
     "output_type": "execute_result"
    }
   ],
   "source": [
    "db = sqlite3.connect('IMDB.sqlite')\n",
    "data = pd.read_sql_query('SELECT IMDB.Movie_id,IMDB.Rating,earning.Domestic,earning.Worldwide FROM IMDB INNER JOIN earning ON IMDB.Movie_id = earning.Movie_id',db)\n",
    "data['Total'] = data['Domestic'] + data['Worldwide']\n",
    "max_rating = data.nlargest(1,['Total'])\n",
    "max_rating.iloc[0,1]"
   ]
  },
  {
   "cell_type": "markdown",
   "id": "40909301",
   "metadata": {},
   "source": [
    "# Problem 1 : IMDB Voted\n",
    "IMDB.sqlite' database contains all details of movies and has three tables with name IMDB, genre and earning.\n",
    "Find the most voted movie in IMDB Movie Database.\n",
    "Print the movie name and the rating of that movie."
   ]
  },
  {
   "cell_type": "code",
   "execution_count": 60,
   "id": "2b1ec5e0",
   "metadata": {},
   "outputs": [
    {
     "name": "stdout",
     "output_type": "stream",
     "text": [
      "Inception (2010) 8.8\n"
     ]
    }
   ],
   "source": [
    "db = sqlite3.connect('IMDB.sqlite')\n",
    "data = pd.read_sql_query('SELECT Movie_id,Title,Rating,TotalVotes FROM IMDB',db)\n",
    "most_voted = data.nlargest(1,['TotalVotes'])\n",
    "print(most_voted.iloc[0,1],most_voted.iloc[0,2])"
   ]
  },
  {
   "cell_type": "markdown",
   "id": "ac12cb03",
   "metadata": {},
   "source": [
    "# Problem 2 : IMDB running time\n",
    "IMDB.sqlite database contains all details of movies and has three tables with name IMDB, genre and earning.\n",
    "Find the Movie with Longest-Running Time from IMDB Movie database.\n",
    "Print the name of movie and running time as integer value."
   ]
  },
  {
   "cell_type": "code",
   "execution_count": 84,
   "id": "3e7d6d1f",
   "metadata": {},
   "outputs": [
    {
     "name": "stdout",
     "output_type": "stream",
     "text": [
      "The Wolf of Wall Street (2013) 180\n"
     ]
    }
   ],
   "source": [
    "db = sqlite3.connect('IMDB.sqlite')\n",
    "data = pd.read_sql_query('SELECT Title,Runtime FROM IMDB',db)\n",
    "data = data[data['Runtime']!='']\n",
    "\n",
    "data['Runtime'] = data['Runtime'].apply(lambda x: int(x.split(\" \")[0]))\n",
    "highest_runtime = data.nlargest(1,['Runtime'])\n",
    "print(highest_runtime.iloc[0,0],highest_runtime.iloc[0,1])"
   ]
  },
  {
   "cell_type": "markdown",
   "id": "e4e26a89",
   "metadata": {},
   "source": [
    "# Problem 3 : IMDB profit\n",
    "IMDB.sqlite database contains all details of movies and has three tables with name IMDB, genre and earning.\n",
    "Find the movie which has maximum net profit in IMDB Movie Database.\n",
    "Print the movie name.\n",
    "\n",
    "Note: Net Profit= Total Earning(Domestic+WorldWide earning) - budget"
   ]
  },
  {
   "cell_type": "code",
   "execution_count": 94,
   "id": "8555a608",
   "metadata": {},
   "outputs": [
    {
     "data": {
      "text/plain": [
       "'Star Wars: The Force Awakens\\xa0(2015)'"
      ]
     },
     "execution_count": 94,
     "metadata": {},
     "output_type": "execute_result"
    }
   ],
   "source": [
    "db = sqlite3.connect('IMDB.sqlite')\n",
    "data = pd.read_sql_query('SELECT IMDB.Movie_id,IMDB.Title,IMDB.Budget,earning.Domestic,earning.Worldwide FROM IMDB INNER JOIN earning ON IMDB.Movie_id = earning.Movie_id',db)\n",
    "data = data[data['Budget']!='']\n",
    "data['Net_profit'] = data['Domestic'] + data['Worldwide'] - data['Budget']\n",
    "\n",
    "max_profit = data.query('Net_profit == Net_profit.max()')\n",
    "max_profit.iloc[0,1]"
   ]
  },
  {
   "cell_type": "markdown",
   "id": "bc363c1c",
   "metadata": {},
   "source": [
    "# Problem 4 : IMDB least budget\n",
    "IMDB.sqlite database contains all details of movies and has three tables with name IMDB, genre and earning.\n",
    "\n",
    "Find the least budgeted movie in IMDB Movie Database.\n",
    "If there is more than one least budgeted movies then print the movie which has maximum net profit.\n",
    "\n",
    "Note: Net Profit= Total Earning(Domestic+WorldWide earning) - budget"
   ]
  },
  {
   "cell_type": "code",
   "execution_count": 102,
   "id": "52c01cc7",
   "metadata": {},
   "outputs": [
    {
     "data": {
      "text/plain": [
       "'Short Term 12\\xa0(2013)'"
      ]
     },
     "execution_count": 102,
     "metadata": {},
     "output_type": "execute_result"
    }
   ],
   "source": [
    "db = sqlite3.connect('IMDB.sqlite')\n",
    "data = pd.read_sql_query('SELECT IMDB.Movie_id,IMDB.Title,IMDB.Budget,earning.Domestic,earning.Worldwide FROM IMDB INNER JOIN earning ON IMDB.Movie_id = earning.Movie_id',db)\n",
    "data = data[data['Budget']!='']\n",
    "data = data.query('Budget == Budget.min()')\n",
    "data['Total'] = data['Domestic'] + data['Worldwide'] - data['Budget']\n",
    "min_budget = data.query('Total == Total.max()')\n",
    "min_budget.iloc[0,1]"
   ]
  },
  {
   "cell_type": "markdown",
   "id": "71501fb2",
   "metadata": {},
   "source": [
    "# Problem 5 : IMDB Year Top\n",
    "IMDB.sqlite database contains all details of movies and has three tables with name IMDB, genre and earning.\n",
    "\n",
    "Find the highest-grossing movie (i.e domestic earning + worldwide earning) in IMDB database year wise.\n",
    "Print the Year and name of the movie which was the highest grosser in that year.\n",
    "\n",
    "Note:Print the year in ascending order"
   ]
  },
  {
   "cell_type": "code",
   "execution_count": 52,
   "id": "46aa8ffa",
   "metadata": {},
   "outputs": [
    {
     "name": "stdout",
     "output_type": "stream",
     "text": [
      "2010 Toy Story 3 (2010)\n",
      "2011 Rise of the Planet of the Apes (2011)\n",
      "2012 The Avengers (2012)\n",
      "2013 The Hunger Games: Catching Fire (2013)\n",
      "2014 Guardians of the Galaxy (2014)\n",
      "2015 Star Wars: The Force Awakens (2015)\n",
      "2016 Rogue One (2016)\n",
      "The Unexpected Virtue of Ignorance Birdman or (The Unexpected Virtue of Ignorance) (2014)\n"
     ]
    },
    {
     "name": "stderr",
     "output_type": "stream",
     "text": [
      "C:\\Users\\Ajinkya\\AppData\\Local\\Temp\\ipykernel_5900\\1029488526.py:6: FutureWarning: Indexing with multiple keys (implicitly converted to a tuple of keys) will be deprecated, use a list instead.\n",
      "  yearwise = data.groupby('Year')['Title','Total']\n"
     ]
    }
   ],
   "source": [
    "db = sqlite3.connect('IMDB.sqlite')\n",
    "data = pd.read_sql_query('SELECT IMDB.Movie_id,IMDB.Title,earning.Domestic,earning.Worldwide FROM IMDB INNER JOIN earning ON IMDB.Movie_id = earning.Movie_id',db)\n",
    "data['Total'] = data['Domestic'] + data['Worldwide']\n",
    "data['Year'] = data['Title'].apply(lambda x: x.split(\"(\")[1])\n",
    "data['Year'] = data['Year'].apply(lambda x: x.split(\")\")[0])\n",
    "yearwise = data.groupby('Year')['Title','Total']\n",
    "\n",
    "for year in yearwise:\n",
    "    movie = year[1].nlargest(1,['Total'])['Title']\n",
    "    print(year[0],movie.iloc[0])"
   ]
  },
  {
   "cell_type": "markdown",
   "id": "67608836",
   "metadata": {},
   "source": [
    "# Problem 6 : IMDB genre budget\n",
    "IMDB.sqlite database contains all details of movies and has three tables with name IMDB, genre and earning.\n",
    "\n",
    "Find out the percentage of the budget for each genre in IMDB Movie Dataset?Plot the pie chart.\n",
    "Print the genre and percentage of movies budget present in that genre with 2 decimal place after rounding off..\n",
    "\n",
    "Note: Movies has multiple genres, so calculate the percentage for each genre.Replace empty budget column to zero."
   ]
  },
  {
   "cell_type": "code",
   "execution_count": 88,
   "id": "3243860c",
   "metadata": {},
   "outputs": [
    {
     "name": "stdout",
     "output_type": "stream",
     "text": [
      "Action 17.98\n",
      "Adventure 25.10\n",
      "Animation 7.66\n",
      "Biography 2.59\n",
      "Comedy 7.22\n",
      "Crime 1.77\n",
      "Drama 10.85\n",
      "Family 1.91\n",
      "Fantasy 4.54\n",
      "History 0.72\n",
      "Horror 0.03\n",
      "Music 0.15\n",
      "Musical 0.25\n",
      "Mystery 1.95\n",
      "Romance 1.12\n",
      "Sci-Fi 10.77\n",
      "Sport 0.46\n",
      "Thriller 3.99\n",
      "War 0.36\n",
      "Western 0.57\n"
     ]
    },
    {
     "data": {
      "image/png": "[encoded data removed]",
      "text/plain": [
       "<Figure size 432x288 with 1 Axes>"
      ]
     },
     "metadata": {},
     "output_type": "display_data"
    }
   ],
   "source": [
    "db = sqlite3.connect('IMDB.sqlite')\n",
    "data = pd.read_sql_query('SELECT IMDB.Movie_id,IMDB.Title,IMDB.Budget,genre.genre FROM IMDB INNER JOIN genre ON IMDB.Movie_id = genre.Movie_id',db)\n",
    "data['Budget'].replace('',0,inplace=True)\n",
    "data = data[data['genre']!='']\n",
    "genre_data = data.groupby('genre')['Budget'].sum()\n",
    "\n",
    "genre = list(genre_data.index)\n",
    "budget = []\n",
    "for i in genre:\n",
    "    budget.append(genre_data[i])\n",
    "\n",
    "for i in range(len(genre)):\n",
    "    print(genre[i],format(budget[i]*100/np.sum(budget),\".2f\"))\n",
    "\n",
    "plt.pie(budget,labels=genre,autopct='%.2f%%')\n",
    "plt.show()"
   ]
  },
  {
   "cell_type": "markdown",
   "id": "f6d17780",
   "metadata": {},
   "source": [
    "# Problem 7 : IMDB genre earning\n",
    "IMDB.sqlite database contains all details of movies and has three tables with name IMDB, genre and earning.\n",
    "\n",
    "Find out the percentage of the total earning for each genre in IMDB Movie Dataset?Plot the pie chart.\n",
    "Print the genre and percentage of movies total earning present in that genre with 2 decimal place after rounding off.\n",
    "\n",
    "Note: Movies has multiple genres, so calculate the percentage for each genre.Total Earning=Domestic earning + WorldWide earning."
   ]
  },
  {
   "cell_type": "code",
   "execution_count": 102,
   "id": "1d0b7a3f",
   "metadata": {},
   "outputs": [
    {
     "name": "stdout",
     "output_type": "stream",
     "text": [
      "Action 17.91\n",
      "Adventure 23.57\n",
      "Animation 6.77\n",
      "Biography 3.42\n",
      "Comedy 7.69\n",
      "Crime 1.55\n",
      "Drama 11.96\n",
      "Family 1.05\n",
      "Fantasy 5.15\n",
      "History 1.04\n",
      "Horror 0.01\n",
      "Music 0.43\n",
      "Musical 0.38\n",
      "Mystery 2.01\n",
      "Romance 1.45\n",
      "Sci-Fi 9.95\n",
      "Sport 0.32\n",
      "Thriller 4.42\n",
      "War 0.25\n",
      "Western 0.65\n"
     ]
    },
    {
     "data": {
      "image/png": "[encoded data removed]",
      "text/plain": [
       "<Figure size 432x288 with 1 Axes>"
      ]
     },
     "metadata": {},
     "output_type": "display_data"
    }
   ],
   "source": [
    "db = sqlite3.connect('IMDB.sqlite')\n",
    "data = pd.read_sql_query('SELECT genre.Movie_id,genre.genre,earning.Domestic,earning.Worldwide FROM genre INNER JOIN earning ON genre.Movie_id = earning.Movie_id',db)\n",
    "data['Total'] = data['Domestic'] + data['Worldwide']\n",
    "data = data[data['genre']!='']\n",
    "genre_wise = data.groupby('genre')['Total'].sum()\n",
    "\n",
    "genre = list(genre_wise.index)\n",
    "earnings = []\n",
    "for i in genre:\n",
    "    earnings.append(genre_wise[i])\n",
    "\n",
    "for i in range(len(genre)):\n",
    "    print(genre[i],format(earnings[i]*100/np.sum(earnings),\".2f\"))\n",
    "\n",
    "plt.pie(earnings,labels=genre,autopct='%.2f%%')\n",
    "plt.show()"
   ]
  },
  {
   "cell_type": "markdown",
   "id": "a2263425",
   "metadata": {},
   "source": [
    "# Problem 8 : IMDB Specific Genre\n",
    "IMDB.sqlite database contains all details of movies and has three tables with name IMDB, genre and earning.\n",
    "\n",
    "Find the movie which has genre of 'Sci-Fi' and 'Mystery' and movie rating is greater or equal to 8 from IMDB Movie Database.\n",
    "Print the movie name.\n",
    "Movies has multiple genre."
   ]
  },
  {
   "cell_type": "code",
   "execution_count": 123,
   "id": "317bfd5f",
   "metadata": {},
   "outputs": [
    {
     "name": "stdout",
     "output_type": "stream",
     "text": [
      "Arrival (2016)\n"
     ]
    }
   ],
   "source": [
    "db = sqlite3.connect('IMDB.sqlite')\n",
    "data = pd.read_sql_query('SELECT IMDB.Movie_id,IMDB.Title,IMDB.Rating,genre.genre FROM IMDB INNER JOIN genre ON IMDB.Movie_id = genre.Movie_id WHERE (genre = \"Sci-Fi\" AND Rating >= 8) OR (genre = \"Mystery\" AND Rating >= 8)',db)\n",
    "print(data['Title'][0])"
   ]
  }
 ],
 "metadata": {
  "kernelspec": {
   "display_name": "Python 3 (ipykernel)",
   "language": "python",
   "name": "python3"
  },
  "language_info": {
   "codemirror_mode": {
    "name": "ipython",
    "version": 3
   },
   "file_extension": ".py",
   "mimetype": "text/x-python",
   "name": "python",
   "nbconvert_exporter": "python",
   "pygments_lexer": "ipython3",
   "version": "3.10.1"
  }
 },
 "nbformat": 4,
 "nbformat_minor": 5
}
