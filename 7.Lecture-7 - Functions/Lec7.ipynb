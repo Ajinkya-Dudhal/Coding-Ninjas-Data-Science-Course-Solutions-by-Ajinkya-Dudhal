{
 "cells": [
  {
   "cell_type": "code",
   "execution_count": 7,
   "id": "6ad58421",
   "metadata": {},
   "outputs": [],
   "source": [
    "def toCelcius(f):\n",
    "    cel = (f-32)*5/9\n",
    "    return int(cel)"
   ]
  },
  {
   "cell_type": "code",
   "execution_count": 9,
   "id": "9f80cef9",
   "metadata": {},
   "outputs": [
    {
     "name": "stdout",
     "output_type": "stream",
     "text": [
      "120\n",
      "200\n",
      "40\n",
      "120 48\n",
      "160 71\n",
      "200 93\n"
     ]
    }
   ],
   "source": [
    "s = int(input())\n",
    "e = int(input())\n",
    "w = int(input())\n",
    "\n",
    "while s<=e:\n",
    "    print(s,end=' ')\n",
    "    print(toCelcius(s))\n",
    "    s = s+w"
   ]
  },
  {
   "cell_type": "code",
   "execution_count": 11,
   "id": "7b0e1ef9",
   "metadata": {},
   "outputs": [],
   "source": [
    "def isFib(n):\n",
    "    f1 = 1\n",
    "    f2 = 1\n",
    "    while f2<n:\n",
    "        temp = f1 + f2\n",
    "        f1 = f2\n",
    "        f2 = temp\n",
    "    if f2==n:\n",
    "        return True\n",
    "    return False"
   ]
  },
  {
   "cell_type": "code",
   "execution_count": 13,
   "id": "47d046c8",
   "metadata": {},
   "outputs": [
    {
     "name": "stdout",
     "output_type": "stream",
     "text": [
      "14\n",
      "False\n"
     ]
    }
   ],
   "source": [
    "n = int(input())\n",
    "print(isFib(n))"
   ]
  }
 ],
 "metadata": {
  "kernelspec": {
   "display_name": "Python 3 (ipykernel)",
   "language": "python",
   "name": "python3"
  },
  "language_info": {
   "codemirror_mode": {
    "name": "ipython",
    "version": 3
   },
   "file_extension": ".py",
   "mimetype": "text/x-python",
   "name": "python",
   "nbconvert_exporter": "python",
   "pygments_lexer": "ipython3",
   "version": "3.10.1"
  }
 },
 "nbformat": 4,
 "nbformat_minor": 5
}
