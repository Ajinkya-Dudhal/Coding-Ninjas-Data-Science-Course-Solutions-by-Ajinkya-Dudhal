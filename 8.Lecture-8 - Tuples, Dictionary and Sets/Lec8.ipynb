{
 "cells": [
  {
   "cell_type": "code",
   "execution_count": 4,
   "id": "43d9795f",
   "metadata": {},
   "outputs": [],
   "source": [
    "def sum(a,b,*c):\n",
    "    ans = a+b\n",
    "    print(c)\n",
    "    for i in c:\n",
    "        ans = ans+i\n",
    "    return ans"
   ]
  },
  {
   "cell_type": "code",
   "execution_count": 6,
   "id": "426ce326",
   "metadata": {},
   "outputs": [
    {
     "name": "stdout",
     "output_type": "stream",
     "text": [
      "(4, 5, 6, 7)\n"
     ]
    },
    {
     "data": {
      "text/plain": [
       "27"
      ]
     },
     "execution_count": 6,
     "metadata": {},
     "output_type": "execute_result"
    }
   ],
   "source": [
    "sum(2,3,4,5,6,7)"
   ]
  },
  {
   "cell_type": "code",
   "execution_count": 7,
   "id": "423bb8fe",
   "metadata": {},
   "outputs": [],
   "source": [
    "def sum_diff(a,b):\n",
    "    return a+b,a-b"
   ]
  },
  {
   "cell_type": "code",
   "execution_count": 8,
   "id": "2c059dac",
   "metadata": {},
   "outputs": [
    {
     "name": "stdout",
     "output_type": "stream",
     "text": [
      "(5, 3)\n"
     ]
    }
   ],
   "source": [
    "print(sum_diff(4,1))"
   ]
  },
  {
   "cell_type": "code",
   "execution_count": 16,
   "id": "eeade3f9",
   "metadata": {},
   "outputs": [],
   "source": [
    "def findMaxFreq(arr):\n",
    "    d = {}\n",
    "    i = 0\n",
    "    for n in arr:\n",
    "        if n in d:\n",
    "            d[n] = d[n]+1\n",
    "        else:\n",
    "            d[n] = 1\n",
    "    values = d.values()\n",
    "    maxFreq = max(values)\n",
    "    for n in d:\n",
    "        if maxFreq == d[n]:\n",
    "            return n"
   ]
  },
  {
   "cell_type": "code",
   "execution_count": 19,
   "id": "bca82373",
   "metadata": {},
   "outputs": [],
   "source": [
    "def maxDistance(arr):\n",
    "    d1 = {}\n",
    "    d2 = {}\n",
    "    i = 0\n",
    "    for n in arr:\n",
    "        if n in d1:\n",
    "            d2[n] = i-d1[n]\n",
    "        d1[n] = i\n",
    "        i = i+1\n",
    "    values = d2.values()\n",
    "    return max(values)"
   ]
  },
  {
   "cell_type": "code",
   "execution_count": 21,
   "id": "4668b83d",
   "metadata": {},
   "outputs": [
    {
     "name": "stdout",
     "output_type": "stream",
     "text": [
      "1 3 1 4 5 6 4 8 3\n",
      "7\n"
     ]
    }
   ],
   "source": [
    "arr = [int(n) for n in input().split(\" \")]\n",
    "max_num = findMaxFreq(arr)\n",
    "maxDis = maxDistance(arr)\n",
    "print(max_num)\n",
    "print(maxDis)"
   ]
  },
  {
   "cell_type": "code",
   "execution_count": 22,
   "id": "e6b6a8ad",
   "metadata": {},
   "outputs": [
    {
     "name": "stdout",
     "output_type": "stream",
     "text": [
      "1 2 3 4 5 3 2 4 5 6\n",
      "4\n"
     ]
    }
   ],
   "source": [
    "l = [int(n) for n in input().split(\" \")]\n",
    "s = set()\n",
    "arr_length = len(l)\n",
    "for n in l:\n",
    "    s.add(n)\n",
    "set_length = len(s)\n",
    "print(arr_length - set_length)"
   ]
  },
  {
   "cell_type": "code",
   "execution_count": 24,
   "id": "e7ad3718",
   "metadata": {},
   "outputs": [
    {
     "name": "stdout",
     "output_type": "stream",
     "text": [
      "gdhIgHada\n",
      "h\n"
     ]
    }
   ],
   "source": [
    "s = input()\n",
    "d = {}\n",
    "for i in range(len(s)):\n",
    "    if s[i] in d:\n",
    "        d[s[i]] = d[s[i]]+1\n",
    "    else:\n",
    "        d[s[i]] = 1\n",
    "for n in d:\n",
    "    if d[n] == 1:\n",
    "        print(n)\n",
    "        break"
   ]
  },
  {
   "cell_type": "code",
   "execution_count": 27,
   "id": "758feef1",
   "metadata": {},
   "outputs": [
    {
     "name": "stdout",
     "output_type": "stream",
     "text": [
      "Abhishek Harshit Ayush Iti\n",
      "-1\n",
      "-1\n",
      "-1\n",
      "-1\n"
     ]
    }
   ],
   "source": [
    "s = input()\n",
    "s = s.split(\" \")\n",
    "d = {}\n",
    "for name in s:\n",
    "    if name in d:\n",
    "        d[name] = d[name]+1\n",
    "    else:\n",
    "        d[name] = 1\n",
    "for name in d:\n",
    "    if d[name] > 1:\n",
    "        print(name,d[name])"
   ]
  },
  {
   "cell_type": "code",
   "execution_count": 1,
   "id": "84ceb099",
   "metadata": {},
   "outputs": [
    {
     "name": "stdout",
     "output_type": "stream",
     "text": [
      "2 5 3 5 3 4\n",
      "5\n"
     ]
    }
   ],
   "source": [
    "arr = [int(n) for n in input().split(\" \")]\n",
    "d = {}\n",
    "for n in arr:\n",
    "    if n in d:\n",
    "        d[n] = d[n] + 1\n",
    "    else:\n",
    "        d[n] = 1\n",
    "for n in d:\n",
    "    if d[n]%2==0:\n",
    "        print(n)\n",
    "        break"
   ]
  },
  {
   "cell_type": "code",
   "execution_count": 17,
   "id": "f350f76d",
   "metadata": {},
   "outputs": [
    {
     "name": "stdout",
     "output_type": "stream",
     "text": [
      "5\n",
      "7 6 5\n",
      "5 7 6\n",
      "8 2 9\n",
      "2 3 4\n",
      "2 4 3\n",
      "1\n"
     ]
    }
   ],
   "source": [
    "n = int(input())\n",
    "tup = []\n",
    "for i in range(n):\n",
    "    arr = [int(element) for element in input().split(\" \")]\n",
    "    t = set(arr)\n",
    "    tup.append(str(t))\n",
    "d = {}\n",
    "for s in tup:\n",
    "    if s in d:\n",
    "        d[s] = d[s]+1\n",
    "    else:\n",
    "        d[s] = 1\n",
    "count = 0\n",
    "for s in d:\n",
    "    if d[s] == 1:\n",
    "        count = count+1\n",
    "print(count)"
   ]
  },
  {
   "cell_type": "code",
   "execution_count": 30,
   "id": "40849ab4",
   "metadata": {},
   "outputs": [
    {
     "name": "stdout",
     "output_type": "stream",
     "text": [
      "5\n",
      "5 2 5 2 2\n",
      "3\n",
      "6\n"
     ]
    }
   ],
   "source": [
    "n = int(input())\n",
    "arr = [int(i) for i in input().split(\" \")]\n",
    "k = int(input())\n",
    "d = {}\n",
    "for i in arr:\n",
    "    if i in d:\n",
    "        d[i] = d[i]+1\n",
    "    else:\n",
    "        d[i] = 1\n",
    "        \n",
    "keys = list(d.keys())\n",
    "\n",
    "count = 0\n",
    "for i in range(len(keys)-1):\n",
    "    for j in range(i+1,len(keys)):\n",
    "        if abs(keys[i] - keys[j]) == k:\n",
    "            count = count + d[keys[i]]*d[keys[j]]\n",
    "print(count)"
   ]
  },
  {
   "cell_type": "code",
   "execution_count": 6,
   "id": "9a1892bf",
   "metadata": {},
   "outputs": [
    {
     "name": "stdout",
     "output_type": "stream",
     "text": [
      "13\n",
      "2 12 2 11 12 2 1 2 2 11 12 2 6\n",
      "{}\n",
      "{2: 6, 12: 3, 11: 2, 1: 1, 6: 1}\n",
      "2\n"
     ]
    }
   ],
   "source": [
    "n = int(input())\n",
    "arr = [int(i) for i in input().split(' ')]\n",
    "dic = {}\n",
    "for element in arr:\n",
    "    if element in dic:\n",
    "        dic[element] = dic[element] + 1\n",
    "    else:\n",
    "        dic[element] = 1\n",
    "\n",
    "values = dic.values()\n",
    "max_value = max(values)\n",
    "for element in dic:\n",
    "    if dic[element] == max_value:\n",
    "        print(element)\n",
    "        break"
   ]
  }
 ],
 "metadata": {
  "kernelspec": {
   "display_name": "Python 3 (ipykernel)",
   "language": "python",
   "name": "python3"
  },
  "language_info": {
   "codemirror_mode": {
    "name": "ipython",
    "version": 3
   },
   "file_extension": ".py",
   "mimetype": "text/x-python",
   "name": "python",
   "nbconvert_exporter": "python",
   "pygments_lexer": "ipython3",
   "version": "3.10.1"
  }
 },
 "nbformat": 4,
 "nbformat_minor": 5
}
