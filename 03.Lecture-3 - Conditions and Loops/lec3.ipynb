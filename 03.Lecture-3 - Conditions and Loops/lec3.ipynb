{
 "cells": [
  {
   "cell_type": "code",
   "execution_count": 3,
   "id": "bde92815",
   "metadata": {},
   "outputs": [
    {
     "name": "stdout",
     "output_type": "stream",
     "text": [
      "6\n",
      "3\n",
      "2\n"
     ]
    }
   ],
   "source": [
    "op = int(input())\n",
    "n1 = int(input())\n",
    "n2 = int(input())\n",
    "if op==1:\n",
    "    print(n1+n2)\n",
    "elif op==2:\n",
    "    print(n1-n2)\n",
    "elif op==3:\n",
    "    print(n1*n2)\n",
    "elif op==4:\n",
    "    print(n1/n2)\n",
    "elif op==5:\n",
    "    print(n1%n2)\n",
    "elif op==6:\n",
    "    pass\n",
    "else:\n",
    "    print(\"Invalid Input\")"
   ]
  },
  {
   "cell_type": "code",
   "execution_count": null,
   "id": "b11e32d4",
   "metadata": {},
   "outputs": [],
   "source": []
  }
 ],
 "metadata": {
  "kernelspec": {
   "display_name": "Python 3 (ipykernel)",
   "language": "python",
   "name": "python3"
  },
  "language_info": {
   "codemirror_mode": {
    "name": "ipython",
    "version": 3
   },
   "file_extension": ".py",
   "mimetype": "text/x-python",
   "name": "python",
   "nbconvert_exporter": "python",
   "pygments_lexer": "ipython3",
   "version": "3.10.1"
  }
 },
 "nbformat": 4,
 "nbformat_minor": 5
}
