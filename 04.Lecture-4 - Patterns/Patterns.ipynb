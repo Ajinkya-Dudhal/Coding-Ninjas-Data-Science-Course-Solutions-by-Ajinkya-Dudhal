{
 "cells": [
  {
   "cell_type": "markdown",
   "id": "f3f18673",
   "metadata": {},
   "source": [
    "   1\n",
    "  23\n",
    " 345\n",
    "4567"
   ]
  },
  {
   "cell_type": "code",
   "execution_count": null,
   "id": "e63d6c6d",
   "metadata": {},
   "outputs": [],
   "source": [
    "n = int(input())\n",
    "i=1\n",
    "while i<=n:\n",
    "    spaces=1\n",
    "    while spaces<=n-i:\n",
    "        print(\" \",end='')\n",
    "        spaces=spaces+1\n",
    "    p=i\n",
    "    while "
   ]
  }
 ],
 "metadata": {
  "kernelspec": {
   "display_name": "Python 3 (ipykernel)",
   "language": "python",
   "name": "python3"
  },
  "language_info": {
   "codemirror_mode": {
    "name": "ipython",
    "version": 3
   },
   "file_extension": ".py",
   "mimetype": "text/x-python",
   "name": "python",
   "nbconvert_exporter": "python",
   "pygments_lexer": "ipython3",
   "version": "3.10.1"
  }
 },
 "nbformat": 4,
 "nbformat_minor": 5
}
