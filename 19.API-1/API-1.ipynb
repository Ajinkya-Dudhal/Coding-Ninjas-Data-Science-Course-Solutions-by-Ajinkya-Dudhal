{
 "cells": [
  {
   "cell_type": "code",
   "execution_count": 1,
   "id": "548b015d",
   "metadata": {},
   "outputs": [],
   "source": [
    "import requests\n",
    "import json"
   ]
  },
  {
   "cell_type": "code",
   "execution_count": 10,
   "id": "cca5813f",
   "metadata": {},
   "outputs": [
    {
     "name": "stdout",
     "output_type": "stream",
     "text": [
      "200\n",
      "ISO-8859-1\n",
      "https://www.codingninjas.com:443/\n",
      "{'Content-Type': 'text/html', 'Transfer-Encoding': 'chunked', 'Connection': 'keep-alive', 'x-amz-id-2': 'k39BhOReRknFxUTE4jsI+XTmFVy2hoZpMesPatDn/an1ttYCkwIQ1FkUuU8objF3Vko3mlI3GLY=', 'x-amz-request-id': 'PKE5KNBAEFZRE79B', 'Date': 'Wed, 26 Jul 2023 17:39:08 GMT', 'Last-Modified': 'Wed, 26 Jul 2023 17:29:36 GMT', 'ETag': 'W/\"97836b209b4d292bc8645c96d7375876\"', 'Server': 'AmazonS3', 'Content-Encoding': 'gzip', 'Vary': 'Accept-Encoding', 'X-Cache': 'Hit from cloudfront', 'Via': '1.1 3aafb33ab44e4e63363c3b8820de3278.cloudfront.net (CloudFront)', 'X-Amz-Cf-Pop': 'BOM78-P6', 'X-Amz-Cf-Id': 'sOdTfSIFXjmTsCdyVvXCnKqFwZEOHjb0yYDIBE7mOKrNQK29TSgEIw==', 'Age': '48726', 'cache-control': 'must-revalidate, max-age=300'}\n",
      "text/html\n",
      "Wed, 26 Jul 2023 17:39:08 GMT\n"
     ]
    }
   ],
   "source": [
    "response = requests.get('https://codingninjas.in/api/v3/Courses')\n",
    "print(response.status_code)\n",
    "print(response.encoding)\n",
    "# print(response.text)\n",
    "print(response.url)\n",
    "print(response.headers)\n",
    "print(response.headers['Content-Type'])\n",
    "print(response.headers['Date'])"
   ]
  },
  {
   "cell_type": "code",
   "execution_count": 13,
   "id": "7b05a7e8",
   "metadata": {},
   "outputs": [
    {
     "name": "stdout",
     "output_type": "stream",
     "text": [
      "200\n"
     ]
    }
   ],
   "source": [
    "response = requests.get('http://api.open-notify.org/iss-now.json')\n",
    "print(response.status_code)"
   ]
  },
  {
   "cell_type": "code",
   "execution_count": 34,
   "id": "9ccece76",
   "metadata": {},
   "outputs": [
    {
     "name": "stdout",
     "output_type": "stream",
     "text": [
      "text/html\n"
     ]
    }
   ],
   "source": [
    "response = requests.get('https://codingninjas.in/api/v3/events')\n",
    "print(response.headers['content-type'])"
   ]
  },
  {
   "cell_type": "code",
   "execution_count": 4,
   "id": "abd1272e",
   "metadata": {},
   "outputs": [
    {
     "name": "stdout",
     "output_type": "stream",
     "text": [
      "Mohit\n",
      "<class 'dict'>\n"
     ]
    }
   ],
   "source": [
    "json_data = '{\"Student\" : \"Mohit\"}'\n",
    "python_data = json.loads(json_data)\n",
    "print(python_data['Student'])\n",
    "print(type(python_data))"
   ]
  },
  {
   "cell_type": "code",
   "execution_count": 5,
   "id": "1bebf3a9",
   "metadata": {},
   "outputs": [
    {
     "name": "stdout",
     "output_type": "stream",
     "text": [
      "101\n",
      "<class 'dict'>\n"
     ]
    }
   ],
   "source": [
    "json_data = '{\"rollNumber\" : 101}'\n",
    "python_data = json.loads(json_data)\n",
    "print(python_data[\"rollNumber\"])\n",
    "print(type(python_data))"
   ]
  },
  {
   "cell_type": "code",
   "execution_count": 6,
   "id": "90c10007",
   "metadata": {},
   "outputs": [
    {
     "name": "stdout",
     "output_type": "stream",
     "text": [
      "None\n",
      "<class 'dict'>\n"
     ]
    }
   ],
   "source": [
    "json_data = '{\"rollNumber\" : null}'\n",
    "python_data = json.loads(json_data)\n",
    "print(python_data[\"rollNumber\"])\n",
    "print(type(python_data))"
   ]
  },
  {
   "cell_type": "code",
   "execution_count": 7,
   "id": "38c5bc55",
   "metadata": {},
   "outputs": [
    {
     "name": "stdout",
     "output_type": "stream",
     "text": [
      "Mohit\n",
      "101\n"
     ]
    }
   ],
   "source": [
    "json_data = '{\"Student\" : {\"Name\":\"Mohit\",\"RollNo\":101}}'\n",
    "python_data = json.loads(json_data)\n",
    "student_details = python_data['Student']\n",
    "print(student_details['Name'])\n",
    "print(student_details['RollNo'])"
   ]
  },
  {
   "cell_type": "code",
   "execution_count": 8,
   "id": "a354df1b",
   "metadata": {},
   "outputs": [
    {
     "name": "stdout",
     "output_type": "stream",
     "text": [
      "['Apple', 'Orange', 'Guava']\n",
      "<class 'list'>\n"
     ]
    }
   ],
   "source": [
    "json_data = '{\"Fruits\":[\"Apple\",\"Orange\",\"Guava\"]}'\n",
    "python_data = json.loads(json_data)\n",
    "print(python_data['Fruits'])\n",
    "print(type(python_data['Fruits']))"
   ]
  },
  {
   "cell_type": "code",
   "execution_count": 21,
   "id": "4a52ffec",
   "metadata": {},
   "outputs": [],
   "source": [
    "response = requests.get('https://jsonplaceholder.typicode.com/todos')"
   ]
  },
  {
   "cell_type": "code",
   "execution_count": 25,
   "id": "74dd2696",
   "metadata": {},
   "outputs": [
    {
     "name": "stdout",
     "output_type": "stream",
     "text": [
      "delectus aut autem\n",
      "quis ut nam facilis et officia qui\n",
      "fugiat veniam minus\n",
      "et porro tempora\n",
      "laboriosam mollitia et enim quasi adipisci quia provident illum\n",
      "qui ullam ratione quibusdam voluptatem quia omnis\n",
      "illo expedita consequatur quia in\n",
      "quo adipisci enim quam ut ab\n",
      "molestiae perspiciatis ipsa\n",
      "illo est ratione doloremque quia maiores aut\n",
      "vero rerum temporibus dolor\n",
      "ipsa repellendus fugit nisi\n",
      "et doloremque nulla\n",
      "repellendus sunt dolores architecto voluptatum\n",
      "ab voluptatum amet voluptas\n",
      "accusamus eos facilis sint et aut voluptatem\n",
      "quo laboriosam deleniti aut qui\n",
      "dolorum est consequatur ea mollitia in culpa\n",
      "molestiae ipsa aut voluptatibus pariatur dolor nihil\n",
      "ullam nobis libero sapiente ad optio sint\n",
      "suscipit repellat esse quibusdam voluptatem incidunt\n",
      "distinctio vitae autem nihil ut molestias quo\n",
      "et itaque necessitatibus maxime molestiae qui quas velit\n",
      "adipisci non ad dicta qui amet quaerat doloribus ea\n",
      "voluptas quo tenetur perspiciatis explicabo natus\n",
      "aliquam aut quasi\n",
      "veritatis pariatur delectus\n",
      "nesciunt totam sit blanditiis sit\n",
      "laborum aut in quam\n",
      "nemo perspiciatis repellat ut dolor libero commodi blanditiis omnis\n",
      "repudiandae totam in est sint facere fuga\n",
      "earum doloribus ea doloremque quis\n",
      "sint sit aut vero\n",
      "porro aut necessitatibus eaque distinctio\n",
      "repellendus veritatis molestias dicta incidunt\n",
      "excepturi deleniti adipisci voluptatem et neque optio illum ad\n",
      "sunt cum tempora\n",
      "totam quia non\n",
      "doloremque quibusdam asperiores libero corrupti illum qui omnis\n",
      "totam atque quo nesciunt\n",
      "aliquid amet impedit consequatur aspernatur placeat eaque fugiat suscipit\n",
      "rerum perferendis error quia ut eveniet\n",
      "tempore ut sint quis recusandae\n",
      "cum debitis quis accusamus doloremque ipsa natus sapiente omnis\n",
      "velit soluta adipisci molestias reiciendis harum\n",
      "vel voluptatem repellat nihil placeat corporis\n",
      "nam qui rerum fugiat accusamus\n",
      "sit reprehenderit omnis quia\n",
      "ut necessitatibus aut maiores debitis officia blanditiis velit et\n",
      "cupiditate necessitatibus ullam aut quis dolor voluptate\n",
      "distinctio exercitationem ab doloribus\n",
      "nesciunt dolorum quis recusandae ad pariatur ratione\n",
      "qui labore est occaecati recusandae aliquid quam\n",
      "quis et est ut voluptate quam dolor\n",
      "voluptatum omnis minima qui occaecati provident nulla voluptatem ratione\n",
      "deleniti ea temporibus enim\n",
      "pariatur et magnam ea doloribus similique voluptatem rerum quia\n",
      "est dicta totam qui explicabo doloribus qui dignissimos\n",
      "perspiciatis velit id laborum placeat iusto et aliquam odio\n",
      "et sequi qui architecto ut adipisci\n",
      "odit optio omnis qui sunt\n",
      "et placeat et tempore aspernatur sint numquam\n",
      "doloremque aut dolores quidem fuga qui nulla\n",
      "voluptas consequatur qui ut quia magnam nemo esse\n",
      "fugiat pariatur ratione ut asperiores necessitatibus magni\n",
      "rerum eum molestias autem voluptatum sit optio\n",
      "quia voluptatibus voluptatem quos similique maiores repellat\n",
      "aut id perspiciatis voluptatem iusto\n",
      "doloribus sint dolorum ab adipisci itaque dignissimos aliquam suscipit\n",
      "ut sequi accusantium et mollitia delectus sunt\n",
      "aut velit saepe ullam\n",
      "praesentium facilis facere quis harum voluptatibus voluptatem eum\n",
      "sint amet quia totam corporis qui exercitationem commodi\n",
      "expedita tempore nobis eveniet laborum maiores\n",
      "occaecati adipisci est possimus totam\n",
      "sequi dolorem sed\n",
      "maiores aut nesciunt delectus exercitationem vel assumenda eligendi at\n",
      "reiciendis est magnam amet nemo iste recusandae impedit quaerat\n",
      "eum ipsa maxime ut\n",
      "tempore molestias dolores rerum sequi voluptates ipsum consequatur\n",
      "suscipit qui totam\n",
      "voluptates eum voluptas et dicta\n",
      "quidem at rerum quis ex aut sit quam\n",
      "sunt veritatis ut voluptate\n",
      "et quia ad iste a\n",
      "incidunt ut saepe autem\n",
      "laudantium quae eligendi consequatur quia et vero autem\n",
      "vitae aut excepturi laboriosam sint aliquam et et accusantium\n",
      "sequi ut omnis et\n",
      "molestiae nisi accusantium tenetur dolorem et\n",
      "nulla quis consequatur saepe qui id expedita\n",
      "in omnis laboriosam\n",
      "odio iure consequatur molestiae quibusdam necessitatibus quia sint\n",
      "facilis modi saepe mollitia\n",
      "vel nihil et molestiae iusto assumenda nemo quo ut\n",
      "nobis suscipit ducimus enim asperiores voluptas\n",
      "dolorum laboriosam eos qui iure aliquam\n",
      "debitis accusantium ut quo facilis nihil quis sapiente necessitatibus\n",
      "neque voluptates ratione\n",
      "excepturi a et neque qui expedita vel voluptate\n",
      "explicabo enim cumque porro aperiam occaecati minima\n",
      "sed ab consequatur\n",
      "non sunt delectus illo nulla tenetur enim omnis\n",
      "excepturi non laudantium quo\n",
      "totam quia dolorem et illum repellat voluptas optio\n",
      "ad illo quis voluptatem temporibus\n",
      "praesentium facilis omnis laudantium fugit ad iusto nihil nesciunt\n",
      "a eos eaque nihil et exercitationem incidunt delectus\n",
      "autem temporibus harum quisquam in culpa\n",
      "aut aut ea corporis\n",
      "magni accusantium labore et id quis provident\n",
      "consectetur impedit quisquam qui deserunt non rerum consequuntur eius\n",
      "quia atque aliquam sunt impedit voluptatum rerum assumenda nisi\n",
      "cupiditate quos possimus corporis quisquam exercitationem beatae\n",
      "sed et ea eum\n",
      "ipsa dolores vel facilis ut\n",
      "sequi quae est et qui qui eveniet asperiores\n",
      "quia modi consequatur vero fugiat\n",
      "corporis ducimus ea perspiciatis iste\n",
      "dolorem laboriosam vel voluptas et aliquam quasi\n",
      "inventore aut nihil minima laudantium hic qui omnis\n",
      "provident aut nobis culpa\n",
      "esse et quis iste est earum aut impedit\n",
      "qui consectetur id\n",
      "aut quasi autem iste tempore illum possimus\n",
      "ut asperiores perspiciatis veniam ipsum rerum saepe\n",
      "voluptatem libero consectetur rerum ut\n",
      "eius omnis est qui voluptatem autem\n",
      "rerum culpa quis harum\n",
      "nulla aliquid eveniet harum laborum libero alias ut unde\n",
      "qui ea incidunt quis\n",
      "qui molestiae voluptatibus velit iure harum quisquam\n",
      "et labore eos enim rerum consequatur sunt\n",
      "molestiae doloribus et laborum quod ea\n",
      "facere ipsa nam eum voluptates reiciendis vero qui\n",
      "asperiores illo tempora fuga sed ut quasi adipisci\n",
      "qui sit non\n",
      "placeat minima consequatur rem qui ut\n",
      "consequatur doloribus id possimus voluptas a voluptatem\n",
      "aut consectetur in blanditiis deserunt quia sed laboriosam\n",
      "explicabo consectetur debitis voluptates quas quae culpa rerum non\n",
      "maiores accusantium architecto necessitatibus reiciendis ea aut\n",
      "eum non recusandae cupiditate animi\n",
      "ut eum exercitationem sint\n",
      "beatae qui ullam incidunt voluptatem non nisi aliquam\n",
      "molestiae suscipit ratione nihil odio libero impedit vero totam\n",
      "eum itaque quod reprehenderit et facilis dolor autem ut\n",
      "esse quas et quo quasi exercitationem\n",
      "animi voluptas quod perferendis est\n",
      "eos amet tempore laudantium fugit a\n",
      "accusamus adipisci dicta qui quo ea explicabo sed vero\n",
      "odit eligendi recusandae doloremque cumque non\n",
      "ea aperiam consequatur qui repellat eos\n",
      "rerum non ex sapiente\n",
      "voluptatem nobis consequatur et assumenda magnam\n",
      "nam quia quia nulla repellat assumenda quibusdam sit nobis\n",
      "dolorem veniam quisquam deserunt repellendus\n",
      "debitis vitae delectus et harum accusamus aut deleniti a\n",
      "debitis adipisci quibusdam aliquam sed dolore ea praesentium nobis\n",
      "et praesentium aliquam est\n",
      "ex hic consequuntur earum omnis alias ut occaecati culpa\n",
      "omnis laboriosam molestias animi sunt dolore\n",
      "natus corrupti maxime laudantium et voluptatem laboriosam odit\n",
      "reprehenderit quos aut aut consequatur est sed\n",
      "fugiat perferendis sed aut quidem\n",
      "quos quo possimus suscipit minima ut\n",
      "et quis minus quo a asperiores molestiae\n",
      "recusandae quia qui sunt libero\n",
      "ea odio perferendis officiis\n",
      "quisquam aliquam quia doloribus aut\n",
      "fugiat aut voluptatibus corrupti deleniti velit iste odio\n",
      "et provident amet rerum consectetur et voluptatum\n",
      "harum ad aperiam quis\n",
      "similique aut quo\n",
      "laudantium eius officia perferendis provident perspiciatis asperiores\n",
      "magni soluta corrupti ut maiores rem quidem\n",
      "et placeat temporibus voluptas est tempora quos quibusdam\n",
      "nesciunt itaque commodi tempore\n",
      "omnis consequuntur cupiditate impedit itaque ipsam quo\n",
      "debitis nisi et dolorem repellat et\n",
      "ut cupiditate sequi aliquam fuga maiores\n",
      "inventore saepe cumque et aut illum enim\n",
      "omnis nulla eum aliquam distinctio\n",
      "molestias modi perferendis perspiciatis\n",
      "voluptates dignissimos sed doloribus animi quaerat aut\n",
      "explicabo odio est et\n",
      "consequuntur animi possimus\n",
      "vel non beatae est\n",
      "culpa eius et voluptatem et\n",
      "accusamus sint iusto et voluptatem exercitationem\n",
      "temporibus atque distinctio omnis eius impedit tempore molestias pariatur\n",
      "ut quas possimus exercitationem sint voluptates\n",
      "rerum debitis voluptatem qui eveniet tempora distinctio a\n",
      "sed ut vero sit molestiae\n",
      "rerum ex veniam mollitia voluptatibus pariatur\n",
      "consequuntur aut ut fugit similique\n",
      "dignissimos quo nobis earum saepe\n",
      "quis eius est sint explicabo\n",
      "numquam repellendus a magnam\n",
      "ipsam aperiam voluptates qui\n"
     ]
    }
   ],
   "source": [
    "python_data = json.loads(response.text)\n",
    "for user in python_data:\n",
    "    print(user['title'])"
   ]
  },
  {
   "cell_type": "code",
   "execution_count": 35,
   "id": "f2fa9c3c",
   "metadata": {},
   "outputs": [
    {
     "name": "stdout",
     "output_type": "stream",
     "text": [
      "affenpinscher : 0\n",
      "african : 0\n",
      "airedale : 0\n",
      "akita : 0\n",
      "appenzeller : 0\n",
      "australian : 1\n",
      "basenji : 0\n",
      "beagle : 0\n",
      "bluetick : 0\n",
      "borzoi : 0\n",
      "bouvier : 0\n",
      "boxer : 0\n",
      "brabancon : 0\n",
      "briard : 0\n",
      "buhund : 1\n",
      "bulldog : 3\n",
      "bullterrier : 1\n",
      "cattledog : 1\n",
      "chihuahua : 0\n",
      "chow : 0\n",
      "clumber : 0\n",
      "cockapoo : 0\n",
      "collie : 1\n",
      "coonhound : 0\n",
      "corgi : 1\n",
      "cotondetulear : 0\n",
      "dachshund : 0\n",
      "dalmatian : 0\n",
      "dane : 1\n",
      "deerhound : 1\n",
      "dhole : 0\n",
      "dingo : 0\n",
      "doberman : 0\n",
      "elkhound : 1\n",
      "entlebucher : 0\n",
      "eskimo : 0\n",
      "finnish : 1\n",
      "frise : 1\n",
      "germanshepherd : 0\n",
      "greyhound : 1\n",
      "groenendael : 0\n",
      "havanese : 0\n",
      "hound : 7\n",
      "husky : 0\n",
      "keeshond : 0\n",
      "kelpie : 0\n",
      "komondor : 0\n",
      "kuvasz : 0\n",
      "labradoodle : 0\n",
      "labrador : 0\n",
      "leonberg : 0\n",
      "lhasa : 0\n",
      "malamute : 0\n",
      "malinois : 0\n",
      "maltese : 0\n",
      "mastiff : 3\n",
      "mexicanhairless : 0\n",
      "mix : 0\n",
      "mountain : 2\n",
      "newfoundland : 0\n",
      "otterhound : 0\n",
      "ovcharka : 1\n",
      "papillon : 0\n",
      "pekinese : 0\n",
      "pembroke : 0\n",
      "pinscher : 1\n",
      "pitbull : 0\n",
      "pointer : 2\n",
      "pomeranian : 0\n",
      "poodle : 4\n",
      "pug : 0\n",
      "puggle : 0\n",
      "pyrenees : 0\n",
      "redbone : 0\n",
      "retriever : 4\n",
      "ridgeback : 1\n",
      "rottweiler : 0\n",
      "saluki : 0\n",
      "samoyed : 0\n",
      "schipperke : 0\n",
      "schnauzer : 2\n",
      "segugio : 1\n",
      "setter : 3\n",
      "sharpei : 0\n",
      "sheepdog : 2\n",
      "shiba : 0\n",
      "shihtzu : 0\n",
      "spaniel : 7\n",
      "spitz : 1\n",
      "springer : 1\n",
      "stbernard : 0\n",
      "terrier : 23\n",
      "tervuren : 0\n",
      "vizsla : 0\n",
      "waterdog : 1\n",
      "weimaraner : 0\n",
      "whippet : 0\n",
      "wolfhound : 1\n"
     ]
    }
   ],
   "source": [
    "p = requests.get('https://dog.ceo/api/breeds/list/all')\n",
    "data = p.json()\n",
    "\n",
    "for key,value in data['message'].items():\n",
    "    print(key,\":\",len(value))"
   ]
  },
  {
   "cell_type": "markdown",
   "id": "5f35f1a3",
   "metadata": {},
   "source": [
    "# Hound Breeds"
   ]
  },
  {
   "cell_type": "code",
   "execution_count": 36,
   "id": "e7f13cff",
   "metadata": {},
   "outputs": [
    {
     "name": "stdout",
     "output_type": "stream",
     "text": [
      "afghan\n",
      "basset\n",
      "blood\n",
      "english\n",
      "ibizan\n",
      "plott\n",
      "walker\n"
     ]
    }
   ],
   "source": [
    "response = requests.get('https://dog.ceo/api/breeds/list/all')\n",
    "data = response.json()\n",
    "hound_breeds = data['message']['hound']\n",
    "for breed in hound_breeds:\n",
    "    print(breed)"
   ]
  },
  {
   "cell_type": "markdown",
   "id": "68fdc85b",
   "metadata": {},
   "source": [
    "# Poodle sub breeds count"
   ]
  },
  {
   "cell_type": "code",
   "execution_count": 38,
   "id": "f96d53bb",
   "metadata": {},
   "outputs": [
    {
     "name": "stdout",
     "output_type": "stream",
     "text": [
      "4\n"
     ]
    }
   ],
   "source": [
    "response = requests.get('https://dog.ceo/api/breeds/list/all')\n",
    "data = json.loads(response.text)\n",
    "print(len(data['message']['poodle']))"
   ]
  },
  {
   "cell_type": "markdown",
   "id": "0f7cdaf0",
   "metadata": {},
   "source": [
    "# CN Online Courses"
   ]
  },
  {
   "cell_type": "code",
   "execution_count": 42,
   "id": "16f9ff8e",
   "metadata": {},
   "outputs": [
    {
     "name": "stdout",
     "output_type": "stream",
     "text": [
      "Premium Web Dev Course\n",
      "C++ & Data Structures\n",
      "Aptitude for professionals\n",
      "Premium Android Course\n",
      "Premium Machine Learning Course\n",
      "Data structures and Algorithms [C++/Java/Python]\n",
      "Competitive Programmer\n",
      "System Design Course\n",
      "Premium Competitive Course\n",
      "Premium Data Science Course\n",
      "Front End (React)\n",
      "Machine Learning\n",
      "Java & Data Structures\n",
      "Android Developer\n",
      "Web Dev (Full Stack)\n",
      "Python & Web Dev (MERN)\n",
      "Data Science\n",
      "Grokking the Operating Systems Interview\n",
      "C++ & Web Dev (Node.js)\n",
      "Competitive Programming\n",
      "Android (Kotlin)\n",
      "Data Scientist\n",
      "Aptitude Preparation\n",
      "Machine Learning\n"
     ]
    }
   ],
   "source": [
    "response = requests.get('https://api.codingninjas.com/api/v3/courses')\n",
    "data = json.loads(response.text)\n",
    "\n",
    "for course in data['data']['courses']:\n",
    "    if course['available_online'] == True:\n",
    "        print(course['title'])"
   ]
  },
  {
   "cell_type": "code",
   "execution_count": 56,
   "id": "6ba5457f",
   "metadata": {},
   "outputs": [
    {
     "name": "stdout",
     "output_type": "stream",
     "text": [
      "Give your career a head-start and know how you can get closer to your dream job by refining your coding skills.\n"
     ]
    }
   ],
   "source": [
    "file = open('events.json')\n",
    "data = json.load(file)\n",
    "\n",
    "events = data['data']['events']\n",
    "if len(events) == 0:\n",
    "    print(\"No Events!!\")\n",
    "else:\n",
    "    print(events[0]['short_desc'])"
   ]
  },
  {
   "cell_type": "code",
   "execution_count": 93,
   "id": "f84a03d0",
   "metadata": {},
   "outputs": [
    {
     "name": "stdout",
     "output_type": "stream",
     "text": [
      "{'meta': {'name': 'openaq-api', 'license': '', 'website': '/', 'page': 1, 'limit': 100, 'found': 2367}, 'results': [{'country': 'JP', 'city': ' ', 'count': 30678, 'locations': 1517}, {'country': 'US', 'city': '007', 'count': 13933, 'locations': 1}, {'country': 'US', 'city': '015', 'count': 3, 'locations': 1}, {'country': 'US', 'city': '037', 'count': 10393, 'locations': 1}, {'country': 'US', 'city': '047', 'count': 13738, 'locations': 1}, {'country': 'US', 'city': '051', 'count': 1119, 'locations': 1}, {'country': 'US', 'city': 'Aberdeen', 'count': 48313, 'locations': 1}, {'country': 'CI', 'city': 'Abidjan', 'count': 25688, 'locations': 1}, {'country': 'AE', 'city': 'Abu Al Abyad', 'count': 4567, 'locations': 1}, {'country': 'AE', 'city': 'Abu Dhabi', 'count': 111430, 'locations': 9}, {'country': 'GH', 'city': 'Accra', 'count': 24631, 'locations': 1}, {'country': 'ES', 'city': 'A Coruña', 'count': 763836, 'locations': 20}, {'country': 'US', 'city': 'ADA', 'count': 31096, 'locations': 1}, {'country': 'US', 'city': 'ADAIR', 'count': 199197, 'locations': 1}, {'country': 'US', 'city': 'ADAMS', 'count': 67164, 'locations': 2}, {'country': 'TR', 'city': 'Adana', 'count': 267490, 'locations': 8}, {'country': 'ET', 'city': 'Addis Ababa', 'count': 90898, 'locations': 2}, {'country': 'AU', 'city': 'Adelaide', 'count': 33439, 'locations': 2}, {'country': 'TR', 'city': 'Adıyaman', 'count': 6716, 'locations': 1}, {'country': 'US', 'city': 'Adrian', 'count': 79604, 'locations': 1}, {'country': 'MK', 'city': 'Aerodrom Municipality', 'count': 192181, 'locations': 1}, {'country': 'TR', 'city': 'Afyonkarahisar', 'count': 26952, 'locations': 3}, {'country': 'TR', 'city': 'Ağrı', 'count': 110993, 'locations': 3}, {'country': 'MX', 'city': 'Aguascalientes', 'count': 36284, 'locations': 4}, {'country': 'FR', 'city': 'Ain', 'count': 240656, 'locations': 2}, {'country': 'FR', 'city': 'Aisne', 'count': 159321, 'locations': 2}, {'country': 'HU', 'city': 'Ajka', 'count': 1371, 'locations': 1}, {'country': 'US', 'city': 'Akron', 'count': 134361, 'locations': 2}, {'country': 'TR', 'city': 'Aksaray', 'count': 17007, 'locations': 1}, {'country': 'IS', 'city': 'Akureyri', 'count': 43147, 'locations': 1}, {'country': 'AE', 'city': 'Al Ain', 'count': 28581, 'locations': 6}, {'country': 'US', 'city': 'ALAMEDA', 'count': 149750, 'locations': 1}, {'country': 'RO', 'city': 'Alba', 'count': 53966, 'locations': 2}, {'country': 'US', 'city': 'Albany', 'count': 32624, 'locations': 1}, {'country': 'US', 'city': 'Albany-Lebanon', 'count': 86864, 'locations': 2}, {'country': 'US', 'city': 'Albany-Schenectady-Troy', 'count': 105510, 'locations': 3}, {'country': 'CA', 'city': 'ALBERTA', 'count': 1677794, 'locations': 31}, {'country': 'US', 'city': 'Albuquerque', 'count': 809381, 'locations': 7}, {'country': 'ES', 'city': 'Alcanar', 'count': 18830, 'locations': 1}, {'country': 'IT', 'city': 'Alessandria', 'count': 114572, 'locations': 3}, {'country': 'NO', 'city': 'Ålesund', 'count': 126425, 'locations': 2}, {'country': 'US', 'city': 'ALEXANDER', 'count': 52635, 'locations': 1}, {'country': 'ZA', 'city': 'Alfred Nzo', 'count': 27540, 'locations': 5}, {'country': 'ES', 'city': 'Alicante/Alacant', 'count': 663996, 'locations': 10}, {'country': 'US', 'city': 'Allegan', 'count': 49605, 'locations': 1}, {'country': 'US', 'city': 'Allentown-Bethlehem-Easton', 'count': 170950, 'locations': 2}, {'country': 'FR', 'city': 'Allier', 'count': 130953, 'locations': 1}, {'country': 'ES', 'city': 'Almería', 'count': 908400, 'locations': 10}, {'country': 'MX', 'city': 'Almoloya de Juárez', 'count': 8373, 'locations': 1}, {'country': 'FR', 'city': 'Alpes-de-Haute-Provence', 'count': 224537, 'locations': 2}, {'country': 'FR', 'city': 'Alpes-Maritimes', 'count': 508116, 'locations': 9}, {'country': 'AE', 'city': 'Al Ruways Industrial City', 'count': 5694, 'locations': 1}, {'country': 'CL', 'city': 'Alto Hospicio', 'count': 1853, 'locations': 1}, {'country': 'AU', 'city': 'Altona North', 'count': 36497, 'locations': 1}, {'country': 'US', 'city': 'Altoona', 'count': 87932, 'locations': 1}, {'country': 'MX', 'city': 'Álvaro Obregón', 'count': 33504, 'locations': 1}, {'country': 'LT', 'city': 'Alytus', 'count': 11547, 'locations': 1}, {'country': 'US', 'city': 'AMADOR', 'count': 26798, 'locations': 1}, {'country': 'US', 'city': 'Amarillo', 'count': 51011, 'locations': 2}, {'country': 'TR', 'city': 'Amasya', 'count': 183140, 'locations': 4}, {'country': 'BR', 'city': 'Americana', 'count': 34528, 'locations': 1}, {'country': 'US', 'city': 'Americus', 'count': 33301, 'locations': 1}, {'country': 'JO', 'city': 'Amman', 'count': 32603, 'locations': 1}, {'country': 'NL', 'city': 'Amsterdam', 'count': 1515098, 'locations': 12}, {'country': 'US', 'city': 'Anchorage', 'count': 188448, 'locations': 3}, {'country': 'IT', 'city': 'Ancona', 'count': 318723, 'locations': 4}, {'country': 'CL', 'city': 'Andacollo', 'count': 87155, 'locations': 3}, {'country': 'US', 'city': 'Anderson', 'count': 64036, 'locations': 2}, {'country': 'US', 'city': 'ANDERSON', 'count': 16433, 'locations': 1}, {'country': 'US', 'city': 'ANDREW', 'count': 32233, 'locations': 1}, {'country': 'TR', 'city': 'Ankara', 'count': 381296, 'locations': 18}, {'country': 'US', 'city': 'Ann Arbor', 'count': 112849, 'locations': 2}, {'country': 'TR', 'city': 'Antalya', 'count': 95401, 'locations': 8}, {'country': 'CL', 'city': 'Antofagasta', 'count': 123328, 'locations': 1}, {'country': 'BE', 'city': 'Antwerpen', 'count': 429638, 'locations': 18}, {'country': 'NL', 'city': 'Antwerpen', 'count': 32852, 'locations': 1}, {'country': 'MX', 'city': 'Apizaco', 'count': 27092, 'locations': 1}, {'country': 'MX', 'city': 'Apodaca', 'count': 26053, 'locations': 1}, {'country': 'US', 'city': 'Appleton', 'count': 66778, 'locations': 1}, {'country': 'ES', 'city': 'Araba/Álava', 'count': 498541, 'locations': 7}, {'country': 'BR', 'city': 'Araçatuba', 'count': 30048, 'locations': 1}, {'country': 'RO', 'city': 'Arad', 'count': 68149, 'locations': 3}, {'country': 'US', 'city': 'ARAPAHOE', 'count': 41564, 'locations': 1}, {'country': 'BR', 'city': 'Araraquara', 'count': 39681, 'locations': 1}, {'country': 'US', 'city': 'ARCHULETA', 'count': 71383, 'locations': 1}, {'country': 'TR', 'city': 'Ardahan', 'count': 13382, 'locations': 1}, {'country': 'FR', 'city': 'Ardèche', 'count': 31992, 'locations': 1}, {'country': 'FR', 'city': 'Ardennes', 'count': 146844, 'locations': 2}, {'country': 'US', 'city': 'Ardmore', 'count': 118511, 'locations': 2}, {'country': 'IT', 'city': 'Arezzo', 'count': 92057, 'locations': 3}, {'country': 'RO', 'city': 'Argeş', 'count': 143747, 'locations': 4}, {'country': 'CL', 'city': 'Arica', 'count': 27459, 'locations': 1}, {'country': 'TT', 'city': 'Arima', 'count': 2599, 'locations': 1}, {'country': 'US', 'city': 'Arkadelphia', 'count': 32217, 'locations': 1}, {'country': 'GB', 'city': 'Armagh', 'count': 2356, 'locations': 1}, {'country': 'CA', 'city': 'AROOSTOOK', 'count': 50941, 'locations': 1}, {'country': 'US', 'city': 'AROOSTOOK', 'count': 304238, 'locations': 2}, {'country': 'TR', 'city': 'Artvin', 'count': 64004, 'locations': 2}, {'country': 'IT', 'city': 'Ascoli Piceno', 'count': 98244, 'locations': 3}, {'country': 'NZ', 'city': 'Ashburton', 'count': 11, 'locations': 1}]}\n",
      "https://api.openaq.org/v1/cities?country=AE\n"
     ]
    }
   ],
   "source": [
    "response = requests.get('https://api.openaq.org/v1/cities',params={\"country\":\"AE\"})\n",
    "# print(response.status_code)\n",
    "print(response.json())\n",
    "print(response.url)"
   ]
  },
  {
   "cell_type": "markdown",
   "id": "bc8c3c52",
   "metadata": {},
   "source": [
    "# Title of course"
   ]
  },
  {
   "cell_type": "code",
   "execution_count": 96,
   "id": "836e4251",
   "metadata": {},
   "outputs": [
    {
     "name": "stdout",
     "output_type": "stream",
     "text": [
      "https://api.codingninjas.com:443/api/v3/courses?id=19\n",
      "Machine Learning\n"
     ]
    }
   ],
   "source": [
    "response = requests.get('http://api.codingninjas.com/api/v3/courses',params={\"id\":19})\n",
    "print(response.url)\n",
    "data = response.json()\n",
    "for course in data['data']['courses']:\n",
    "    if course['id']==19:\n",
    "        print(course['title'])"
   ]
  },
  {
   "cell_type": "markdown",
   "id": "8577842c",
   "metadata": {},
   "source": [
    "# Total Number of Cities"
   ]
  },
  {
   "cell_type": "code",
   "execution_count": 127,
   "id": "58953b9f",
   "metadata": {},
   "outputs": [
    {
     "name": "stdout",
     "output_type": "stream",
     "text": [
      "https://api.openaq.org//v1/countries\n",
      "51\n"
     ]
    }
   ],
   "source": [
    "response = requests.get('https://api.openaq.org//v1/countries')\n",
    "print(response.url)\n",
    "data = response.json()\n",
    "\n",
    "count = 0\n",
    "for name in data['results']:\n",
    "    if name['code']=='AU':\n",
    "        count = count + name['cities']\n",
    "print(count)"
   ]
  },
  {
   "cell_type": "markdown",
   "id": "328323b9",
   "metadata": {},
   "source": [
    "# Cities from BE"
   ]
  },
  {
   "cell_type": "code",
   "execution_count": 134,
   "id": "a041e2fd",
   "metadata": {},
   "outputs": [
    {
     "name": "stdout",
     "output_type": "stream",
     "text": [
      "https://api.openaq.org/v1/cities?country=BE\n",
      "Antwerpen\n"
     ]
    }
   ],
   "source": [
    "response = requests.get('https://api.openaq.org/v1/cities',params={\"country\":\"BE\"})\n",
    "data = response.json()\n",
    "print(response.url)\n",
    "\n",
    "for name in data['results']:\n",
    "    if name['country']=='BE':\n",
    "        print(name['city'])"
   ]
  },
  {
   "cell_type": "code",
   "execution_count": 14,
   "id": "0129c70a",
   "metadata": {},
   "outputs": [
    {
     "name": "stdout",
     "output_type": "stream",
     "text": [
      "https://api.nasa.gov/planetary/apod?api_key=DEMO_KEY\n"
     ]
    }
   ],
   "source": [
    "response = requests.get('https://api.nasa.gov/planetary/apod',params={'api_key':'DEMO_KEY'})\n",
    "print(response.url)"
   ]
  },
  {
   "cell_type": "code",
   "execution_count": 17,
   "id": "fa322790",
   "metadata": {},
   "outputs": [
    {
     "name": "stdout",
     "output_type": "stream",
     "text": [
      "https://www.metaweather.com/api/location.search/?location=USA\n"
     ]
    }
   ],
   "source": [
    "response = requests.get('https://www.metaweather.com/api/location.search/',params={\"title\":\"USA\"})\n",
    "data = response.json()\n",
    "for i in data:\n",
    "    print(i['woeid'])"
   ]
  },
  {
   "cell_type": "code",
   "execution_count": 21,
   "id": "5714d6bf",
   "metadata": {},
   "outputs": [
    {
     "name": "stdout",
     "output_type": "stream",
     "text": [
      "https://holidayapi.com/v1/holidays?key=57e5dadb-0b5c-40b8-aa43-12b757e18101&country=IN&year=2019&month=10&day=2\n"
     ]
    }
   ],
   "source": [
    "response = requests.get('https://holidayapi.com/v1/holidays',params={\"key\":\"57e5dadb-0b5c-40b8-aa43-12b757e18101\",\"country\":\"IN\",\"year\":2019,\"month\":10,\"day\":2})\n",
    "print(response.url)"
   ]
  },
  {
   "cell_type": "code",
   "execution_count": 2,
   "id": "3392ed7e",
   "metadata": {},
   "outputs": [
    {
     "name": "stdout",
     "output_type": "stream",
     "text": [
      "<Response [200]>\n",
      "{\n",
      "  \"args\": {}, \n",
      "  \"data\": \"\", \n",
      "  \"files\": {}, \n",
      "  \"form\": {}, \n",
      "  \"headers\": {\n",
      "    \"Accept\": \"*/*\", \n",
      "    \"Accept-Encoding\": \"gzip, deflate\", \n",
      "    \"Content-Length\": \"0\", \n",
      "    \"Host\": \"httpbin.org\", \n",
      "    \"User-Agent\": \"python-requests/2.28.1\", \n",
      "    \"X-Amzn-Trace-Id\": \"Root=1-64cf41c0-083e5c2879605cc737fb9d2a\"\n",
      "  }, \n",
      "  \"json\": null, \n",
      "  \"origin\": \"152.58.22.118\", \n",
      "  \"url\": \"https://httpbin.org/post\"\n",
      "}\n",
      "\n"
     ]
    }
   ],
   "source": [
    "response = requests.post('https://httpbin.org/post')\n",
    "print(response)\n",
    "print(response.text)"
   ]
  },
  {
   "cell_type": "code",
   "execution_count": 3,
   "id": "d77a09d3",
   "metadata": {},
   "outputs": [
    {
     "name": "stdout",
     "output_type": "stream",
     "text": [
      "<Response [200]>\n",
      "{\n",
      "  \"args\": {}, \n",
      "  \"data\": \"\", \n",
      "  \"files\": {}, \n",
      "  \"form\": {\n",
      "    \"key1\": \"val1\", \n",
      "    \"key2\": \"val2\"\n",
      "  }, \n",
      "  \"headers\": {\n",
      "    \"Accept\": \"*/*\", \n",
      "    \"Accept-Encoding\": \"gzip, deflate\", \n",
      "    \"Content-Length\": \"19\", \n",
      "    \"Content-Type\": \"application/x-www-form-urlencoded\", \n",
      "    \"Host\": \"httpbin.org\", \n",
      "    \"User-Agent\": \"python-requests/2.28.1\", \n",
      "    \"X-Amzn-Trace-Id\": \"Root=1-64cf424e-628461d50bb24ec64d337ad7\"\n",
      "  }, \n",
      "  \"json\": null, \n",
      "  \"origin\": \"152.58.22.118\", \n",
      "  \"url\": \"https://httpbin.org/post\"\n",
      "}\n",
      "\n"
     ]
    }
   ],
   "source": [
    "response = requests.post('https://httpbin.org/post',data={'key1':'val1','key2':'val2'})\n",
    "print(response)\n",
    "print(response.text)"
   ]
  },
  {
   "cell_type": "code",
   "execution_count": 4,
   "id": "071c0a38",
   "metadata": {},
   "outputs": [
    {
     "name": "stdout",
     "output_type": "stream",
     "text": [
      "{\n",
      "  \"args\": {}, \n",
      "  \"data\": \"\", \n",
      "  \"files\": {}, \n",
      "  \"form\": {\n",
      "    \"key1\": [\n",
      "      \"val1\", \n",
      "      \"val2\"\n",
      "    ], \n",
      "    \"key2\": \"val3\"\n",
      "  }, \n",
      "  \"headers\": {\n",
      "    \"Accept\": \"*/*\", \n",
      "    \"Accept-Encoding\": \"gzip, deflate\", \n",
      "    \"Content-Length\": \"29\", \n",
      "    \"Content-Type\": \"application/x-www-form-urlencoded\", \n",
      "    \"Host\": \"httpbin.org\", \n",
      "    \"User-Agent\": \"python-requests/2.28.1\", \n",
      "    \"X-Amzn-Trace-Id\": \"Root=1-64cf42e5-4d2ec6a7697524d264659b1b\"\n",
      "  }, \n",
      "  \"json\": null, \n",
      "  \"origin\": \"152.58.22.118\", \n",
      "  \"url\": \"https://httpbin.org/post\"\n",
      "}\n",
      "\n"
     ]
    }
   ],
   "source": [
    "response = requests.post('https://httpbin.org/post',data={'key1':['val1','val2'],'key2':'val3'})\n",
    "print(response.text)"
   ]
  },
  {
   "cell_type": "code",
   "execution_count": 6,
   "id": "b045b6bd",
   "metadata": {},
   "outputs": [
    {
     "name": "stdout",
     "output_type": "stream",
     "text": [
      "{\n",
      "  \"args\": {}, \n",
      "  \"data\": \"\", \n",
      "  \"files\": {}, \n",
      "  \"form\": {\n",
      "    \"key1\": \"val1\", \n",
      "    \"key2\": \"val2\"\n",
      "  }, \n",
      "  \"headers\": {\n",
      "    \"Accept\": \"*/*\", \n",
      "    \"Accept-Encoding\": \"gzip, deflate\", \n",
      "    \"Content-Length\": \"19\", \n",
      "    \"Content-Type\": \"application/x-www-form-urlencoded\", \n",
      "    \"Host\": \"httpbin.org\", \n",
      "    \"User-Agent\": \"python-requests/2.28.1\", \n",
      "    \"X-Amzn-Trace-Id\": \"Root=1-64cf4387-7a4fe88775075d0a63a358ac\"\n",
      "  }, \n",
      "  \"json\": null, \n",
      "  \"origin\": \"152.58.19.151\", \n",
      "  \"url\": \"https://httpbin.org/post\"\n",
      "}\n",
      "\n"
     ]
    }
   ],
   "source": [
    "response = requests.post('https://httpbin.org/post',data=[('key1','val1'),('key2','val2')])\n",
    "print(response.text)"
   ]
  }
 ],
 "metadata": {
  "kernelspec": {
   "display_name": "Python 3 (ipykernel)",
   "language": "python",
   "name": "python3"
  },
  "language_info": {
   "codemirror_mode": {
    "name": "ipython",
    "version": 3
   },
   "file_extension": ".py",
   "mimetype": "text/x-python",
   "name": "python",
   "nbconvert_exporter": "python",
   "pygments_lexer": "ipython3",
   "version": "3.10.1"
  }
 },
 "nbformat": 4,
 "nbformat_minor": 5
}
