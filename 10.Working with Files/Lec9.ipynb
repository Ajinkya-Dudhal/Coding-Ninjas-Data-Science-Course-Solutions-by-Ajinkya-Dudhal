{
 "cells": [
  {
   "cell_type": "code",
   "execution_count": 4,
   "id": "31389080",
   "metadata": {},
   "outputs": [
    {
     "name": "stdout",
     "output_type": "stream",
     "text": [
      "<class 'str'>\n"
     ]
    }
   ],
   "source": [
    "file_obj = open('sample.txt','r')\n",
    "file_data = file_obj.read()\n",
    "print(type(file_data))"
   ]
  },
  {
   "cell_type": "code",
   "execution_count": 6,
   "id": "c9c16a5c",
   "metadata": {},
   "outputs": [
    {
     "name": "stdout",
     "output_type": "stream",
     "text": [
      "Lorem ipsum dolor sit amet, consectetur adipiscing elit. Vivamus condimentum sagittis lacus, laoreet\n"
     ]
    }
   ],
   "source": [
    "file_obj = open('sample.txt','r')\n",
    "file_data = file_obj.read(100)\n",
    "print(file_data)"
   ]
  },
  {
   "cell_type": "code",
   "execution_count": 7,
   "id": "6d36eaa9",
   "metadata": {},
   "outputs": [
    {
     "name": "stdout",
     "output_type": "stream",
     "text": [
      "Lorem ipsum dolor sit amet, consectetur adipiscing elit. Vivamus condimentum sagittis lacus, laoreet luctus ligula laoreet ut. Vestibulum ullamcorper accumsan velit vel vehicula. Proin tempor lacus arcu. Nunc at elit condimentum, semper nisi et, condimentum mi. In venenatis blandit nibh at sollicitudin. Vestibulum dapibus mauris at orci maximus pellentesque. Nullam id elementum ipsum. Suspendisse cursus lobortis viverra. Proin et erat at mauris tincidunt porttitor vitae ac dui.\n",
      "\n"
     ]
    }
   ],
   "source": [
    "file_obj = open('sample.txt','r')\n",
    "file_data = file_obj.readline()\n",
    "print(file_data)"
   ]
  },
  {
   "cell_type": "code",
   "execution_count": 12,
   "id": "4e40a8e2",
   "metadata": {},
   "outputs": [
    {
     "name": "stdout",
     "output_type": "stream",
     "text": [
      "<class 'list'>\n",
      "14\n",
      "Vestibulum ante ipsum primis in faucibus orci luctus et ultrices posuere cubilia Curae; Lorem ipsum dolor sit amet, consectetur adipiscing elit. Sed feugiat semper velit consequat facilisis. Etiam facilisis justo non iaculis dictum. Fusce turpis neque, pharetra ut odio eu, hendrerit rhoncus lacus. Nunc orci felis, imperdiet vel interdum quis, porta eu ipsum. Pellentesque dictum sem lacinia, auctor dui in, malesuada nunc. Maecenas sit amet mollis eros. Proin fringilla viverra ligula, sollicitudin viverra ante sollicitudin congue. Donec mollis felis eu libero malesuada, et lacinia risus interdum.\n",
      "\n"
     ]
    }
   ],
   "source": [
    "file_obj = open('sample.txt','r')\n",
    "file_data = file_obj.readlines()\n",
    "print(type(file_data))\n",
    "print(len(file_data))\n",
    "print(file_data[3])\n",
    "file_obj.close()"
   ]
  },
  {
   "cell_type": "code",
   "execution_count": 13,
   "id": "af6e930f",
   "metadata": {},
   "outputs": [],
   "source": [
    "with open('sample.txt','r') as file_obj:\n",
    "    file_data = file_obj.readlines()\n"
   ]
  },
  {
   "cell_type": "code",
   "execution_count": 2,
   "id": "c1921146",
   "metadata": {},
   "outputs": [
    {
     "name": "stdout",
     "output_type": "stream",
     "text": [
      "['2017', '1', '2', 'Afghanistan', 'South Asia', 'Takhta Pul', '31.320556', '65.961111', 'Hostage Taking (Kidnapping)', '0.0', '0.0', 'Construction Workers', 'Taliban', 'Business', 'Firearms', '0.0']\n",
      "['2017', '1', '3', 'Sudan', 'Sub-Saharan Africa', 'Fantaga', '12.921007000000001', '24.318324', 'Armed Assault', '2.0', '0.0', 'Civilians: Haroun Yousif, Hamid Ibrahim', 'Unknown', 'Private Citizens & Property', 'Firearms', '2.0']\n",
      "['2017', '1', '1', 'Democratic Republic of the Congo', 'Sub-Saharan Africa', 'Saboko', '1.452372', '29.875162', 'Armed Assault', '7.0', '0.0', 'Village', 'Allied Democratic Forces (ADF)', 'Private Citizens & Property', 'Melee', '7.0']\n"
     ]
    }
   ],
   "source": [
    "import csv\n",
    "with open('year2017.csv','r') as file_obj:\n",
    "    file_data = csv.reader(file_obj)\n",
    "    file_data = list(file_data)\n",
    "    for row in file_data[1:4]:\n",
    "        print(row)"
   ]
  },
  {
   "cell_type": "code",
   "execution_count": 13,
   "id": "ae2e6dfb",
   "metadata": {},
   "outputs": [
    {
     "name": "stdout",
     "output_type": "stream",
     "text": [
      "26445.0\n"
     ]
    }
   ],
   "source": [
    "import csv\n",
    "with open('year2017.csv','r') as file_obj:\n",
    "    file_data = csv.reader(file_obj)\n",
    "    file_list = list(file_data)\n",
    "    killed = []\n",
    "    for row in file_list[1:]:\n",
    "        if row[9]!='':\n",
    "            killed.append(float(row[9]))\n",
    "print(sum(killed))"
   ]
  },
  {
   "cell_type": "code",
   "execution_count": 16,
   "id": "2fdbea8e",
   "metadata": {},
   "outputs": [
    {
     "name": "stdout",
     "output_type": "stream",
     "text": [
      "{'Afghanistan': 6092, 'Sudan': 82, 'Democratic Republic of the Congo': 596, 'Turkey': 222, 'Syria': 2026, 'Pakistan': 1076, 'Italy': 0, 'Somalia': 1912, 'Yemen': 762, 'Bahrain': 6, 'Myanmar': 218, 'Burundi': 20, 'Iraq': 6476, 'Egypt': 877, 'Burkina Faso': 53, 'India': 465, 'Algeria': 12, 'United States': 95, 'Philippines': 496, 'Greece': 0, 'Mali': 361, 'Libya': 289, 'Central African Republic': 601, 'Nigeria': 1805, 'Lebanon': 17, 'Mexico': 23, 'Cameroon': 228, 'Ethiopia': 67, 'Kyrgyzstan': 0, 'Serbia': 0, 'Sweden': 5, 'Thailand': 72, 'Iran': 39, 'France': 7, 'United Kingdom': 42, 'West Bank and Gaza Strip': 50, 'Ukraine': 40, 'Paraguay': 4, 'Colombia': 84, 'Malaysia': 4, 'Russia': 61, 'Kosovo': 0, 'South Africa': 21, 'Chile': 0, 'Kenya': 126, 'Israel': 3, 'Saudi Arabia': 31, 'China': 16, 'Nepal': 4, 'Ecuador': 0, 'Niger': 148, 'Venezuela': 5, 'South Sudan': 581, 'Canada': 6, 'Bangladesh': 25, 'Tajikistan': 1, 'Angola': 7, 'Ireland': 0, 'Peru': 8, 'Dominican Republic': 2, 'Poland': 0, 'Jordan': 4, 'Azerbaijan': 5, 'Mozambique': 22, 'Indonesia': 20, 'Germany': 1, 'Brazil': 0, 'Macedonia': 0, 'Tunisia': 5, 'Uganda': 7, 'Chad': 62, 'Finland': 2, 'Australia': 4, 'Norway': 0, 'Vietnam': 0, 'Tanzania': 8, 'Sierra Leone': 0, 'Sri Lanka': 1, 'Maldives': 1, 'Belgium': 2, 'Rwanda': 2, 'Honduras': 2, 'Czech Republic': 0, 'Malta': 1, 'Gabon': 0, 'Laos': 1, 'Djibouti': 0, 'Austria': 2, 'Zambia': 0, 'Argentina': 0, 'Papua New Guinea': 0, 'Zimbabwe': 0, 'Ivory Coast': 3, 'Spain': 21, 'Taiwan': 0, 'Jamaica': 0, 'Albania': 0, 'Liberia': 0, 'Georgia': 0, 'Malawi': 0, 'Netherlands': 0, 'Latvia': 0}\n"
     ]
    }
   ],
   "source": [
    "import csv\n",
    "with open('year2017.csv','r') as file_obj:\n",
    "    file_data = csv.DictReader(file_obj)\n",
    "    file_list = list(file_data)\n",
    "    country_killed = {}\n",
    "    for row in file_list:\n",
    "        key = row['Country']\n",
    "        value = row['Killed']\n",
    "        if value!='':\n",
    "            value = int(float(value))\n",
    "        else:\n",
    "            value = 0\n",
    "        if key in country_killed:\n",
    "            country_killed[key] = country_killed[key] + value\n",
    "        else:\n",
    "            country_killed[key] = value\n",
    "print(country_killed)"
   ]
  },
  {
   "cell_type": "code",
   "execution_count": 17,
   "id": "f8209def",
   "metadata": {},
   "outputs": [
    {
     "name": "stdout",
     "output_type": "stream",
     "text": [
      "Lorem ipsum dolor sit amet, consectetur adipiscing elit. Vivamus condimentum sagittis lacus, laoreet\n"
     ]
    }
   ],
   "source": [
    "with open('sample.txt','r') as file:\n",
    "    file_data = file.read(100)\n",
    "print(file_data)"
   ]
  },
  {
   "cell_type": "code",
   "execution_count": 19,
   "id": "c17b26b5",
   "metadata": {},
   "outputs": [
    {
     "name": "stdout",
     "output_type": "stream",
     "text": [
      "Lorem ipsum dolor sit amet, consectetur adipiscing elit. Vivamus condimentum sagittis lacus, laoreet luctus ligula laoreet ut. Vestibulum ullamcorper accumsan velit vel vehicula. Proin tempor lacus arcu. Nunc at elit condimentum, semper nisi et, condimentum mi. In venenatis blandit nibh at sollicitudin. Vestibulum dapibus mauris at orci maximus pellentesque. Nullam id elementum ipsum. Suspendisse cursus lobortis viverra. Proin et erat at mauris tincidunt porttitor vitae ac dui.\n",
      "\n",
      "Donec vulputate lorem tortor, nec fermentum nibh bibendum vel. Lorem ipsum dolor sit amet, consectetur adipiscing elit. Praesent dictum luctus massa, non euismod lacus. Pellentesque condimentum dolor est, ut dapibus lectus luctus ac. Ut sagittis commodo arcu. Integer nisi nulla, facilisis sit amet nulla quis, eleifend suscipit purus. Class aptent taciti sociosqu ad litora torquent per conubia nostra, per inceptos himenaeos. Aliquam euismod ultrices lorem, sit amet imperdiet est tincidunt vel. Phasellus dictum justo sit amet ligula varius aliquet auctor et metus. Fusce vitae tortor et nisi pulvinar vestibulum eget in risus. Donec ante ex, placerat a lorem eget, ultricies bibendum purus. Nam sit amet neque non ante laoreet rutrum. Nullam aliquet commodo urna, sed ullamcorper odio feugiat id. Mauris nisi sapien, porttitor in condimentum nec, venenatis eu urna. Pellentesque feugiat diam est, at rhoncus orci porttitor non.\n",
      "\n",
      "Nulla luctus sem sit amet nisi consequat, id ornare ipsum dignissim. Sed elementum elit nibh, eu condimentum orci viverra quis. Aenean suscipit vitae felis non suscipit. Suspendisse pharetra turpis non eros semper dictum. Etiam tincidunt venenatis venenatis. Praesent eget gravida lorem, ut congue diam. Etiam facilisis elit at porttitor egestas. Praesent consequat, velit non vulputate convallis, ligula diam sagittis urna, in venenatis nisi justo ut mauris. Vestibulum posuere sollicitudin mi, et vulputate nisl fringilla non. Nulla ornare pretium velit a euismod. Nunc sagittis venenatis vestibulum. Nunc sodales libero a est ornare ultricies. Sed sed leo sed orci pellentesque ultrices. Mauris sollicitudin, sem quis placerat ornare, velit arcu convallis ligula, pretium finibus nisl sapien vel sem. Vivamus sit amet tortor id lorem consequat hendrerit. Nullam at dui risus.\n",
      "\n",
      "Vestibulum ante ipsum primis in faucibus orci luctus et ultrices posuere cubilia Curae; Lorem ipsum dolor sit amet, consectetur adipiscing elit. Sed feugiat semper velit consequat facilisis. Etiam facilisis justo non iaculis dictum. Fusce turpis neque, pharetra ut odio eu, hendrerit rhoncus lacus. Nunc orci felis, imperdiet vel interdum quis, porta eu ipsum. Pellentesque dictum sem lacinia, auctor dui in, malesuada nunc. Maecenas sit amet mollis eros. Proin fringilla viverra ligula, sollicitudin viverra ante sollicitudin congue. Donec mollis felis eu libero malesuada, et lacinia risus interdum.\n",
      "\n",
      "Etiam vitae accumsan augue. Ut urna orci, malesuada ut nisi a, condimentum gravida magna. Nulla bibendum ex in vulputate sagittis. Nulla facilisi. Nullam faucibus et metus ac consequat. Quisque tempor eros velit, id mattis nibh aliquet a. Aenean tempor elit ut finibus auctor. Sed at imperdiet mauris. Vestibulum pharetra non lacus sed pulvinar. Sed pellentesque magna a eros volutpat ullamcorper. In hac habitasse platea dictumst. Donec ipsum mi, feugiat in eros sed, varius lacinia turpis. Donec vulputate tincidunt dui ac laoreet. Sed in eros dui. Pellentesque placerat tristique ligula eu finibus. Proin nec faucibus felis, eu commodo ipsum.\n",
      "\n"
     ]
    }
   ],
   "source": [
    "with open('sample.txt','r') as file:\n",
    "    file_data = file.readline()\n",
    "    print(file_data)\n",
    "    file_data = file.readline()\n",
    "    print(file_data)\n",
    "    file_data = file.readline()\n",
    "    print(file_data)\n",
    "    file_data = file.readline()\n",
    "    print(file_data)\n",
    "    file_data = file.readline()\n",
    "    print(file_data)"
   ]
  },
  {
   "cell_type": "code",
   "execution_count": 21,
   "id": "ba5244b6",
   "metadata": {},
   "outputs": [
    {
     "name": "stdout",
     "output_type": "stream",
     "text": [
      "Lorem ipsum dolor sit amet, consectetur adipiscing elit. Vivamus condimentum sagittis lacus, laoreet luctus ligula laoreet ut. Vestibulum ullamcorper accumsan velit vel vehicula. Proin tempor lacus arcu. Nunc at elit condimentum, semper nisi et, condimentum mi. In venenatis blandit nibh at sollicitudin. Vestibulum dapibus mauris at orci maximus pellentesque. Nullam id elementum ipsum. Suspendisse cursus lobortis viverra. Proin et erat at mauris tincidunt porttitor vitae ac dui.\n",
      "\n",
      "Donec vulputate lorem tortor, nec fermentum nibh bibendum vel. Lorem ipsum dolor sit amet, consectetur adipiscing elit. Praesent dictum luctus massa, non euismod lacus. Pellentesque condimentum dolor est, ut dapibus lectus luctus ac. Ut sagittis commodo arcu. Integer nisi nulla, facilisis sit amet nulla quis, eleifend suscipit purus. Class aptent taciti sociosqu ad litora torquent per conubia nostra, per inceptos himenaeos. Aliquam euismod ultrices lorem, sit amet imperdiet est tincidunt vel. Phasellus dictum justo sit amet ligula varius aliquet auctor et metus. Fusce vitae tortor et nisi pulvinar vestibulum eget in risus. Donec ante ex, placerat a lorem eget, ultricies bibendum purus. Nam sit amet neque non ante laoreet rutrum. Nullam aliquet commodo urna, sed ullamcorper odio feugiat id. Mauris nisi sapien, porttitor in condimentum nec, venenatis eu urna. Pellentesque feugiat diam est, at rhoncus orci porttitor non.\n",
      "\n",
      "Nulla luctus sem sit amet nisi consequat, id ornare ipsum dignissim. Sed elementum elit nibh, eu condimentum orci viverra quis. Aenean suscipit vitae felis non suscipit. Suspendisse pharetra turpis non eros semper dictum. Etiam tincidunt venenatis venenatis. Praesent eget gravida lorem, ut congue diam. Etiam facilisis elit at porttitor egestas. Praesent consequat, velit non vulputate convallis, ligula diam sagittis urna, in venenatis nisi justo ut mauris. Vestibulum posuere sollicitudin mi, et vulputate nisl fringilla non. Nulla ornare pretium velit a euismod. Nunc sagittis venenatis vestibulum. Nunc sodales libero a est ornare ultricies. Sed sed leo sed orci pellentesque ultrices. Mauris sollicitudin, sem quis placerat ornare, velit arcu convallis ligula, pretium finibus nisl sapien vel sem. Vivamus sit amet tortor id lorem consequat hendrerit. Nullam at dui risus.\n",
      "\n",
      "Vestibulum ante ipsum primis in faucibus orci luctus et ultrices posuere cubilia Curae; Lorem ipsum dolor sit amet, consectetur adipiscing elit. Sed feugiat semper velit consequat facilisis. Etiam facilisis justo non iaculis dictum. Fusce turpis neque, pharetra ut odio eu, hendrerit rhoncus lacus. Nunc orci felis, imperdiet vel interdum quis, porta eu ipsum. Pellentesque dictum sem lacinia, auctor dui in, malesuada nunc. Maecenas sit amet mollis eros. Proin fringilla viverra ligula, sollicitudin viverra ante sollicitudin congue. Donec mollis felis eu libero malesuada, et lacinia risus interdum.\n",
      "\n",
      "Etiam vitae accumsan augue. Ut urna orci, malesuada ut nisi a, condimentum gravida magna. Nulla bibendum ex in vulputate sagittis. Nulla facilisi. Nullam faucibus et metus ac consequat. Quisque tempor eros velit, id mattis nibh aliquet a. Aenean tempor elit ut finibus auctor. Sed at imperdiet mauris. Vestibulum pharetra non lacus sed pulvinar. Sed pellentesque magna a eros volutpat ullamcorper. In hac habitasse platea dictumst. Donec ipsum mi, feugiat in eros sed, varius lacinia turpis. Donec vulputate tincidunt dui ac laoreet. Sed in eros dui. Pellentesque placerat tristique ligula eu finibus. Proin nec faucibus felis, eu commodo ipsum.\n",
      "\n"
     ]
    }
   ],
   "source": [
    "with open('sample.txt','r') as file:\n",
    "    file_data = file.readlines()\n",
    "    for i in range(0,5):\n",
    "        print(file_data[i])"
   ]
  },
  {
   "cell_type": "code",
   "execution_count": 22,
   "id": "865e1636",
   "metadata": {},
   "outputs": [
    {
     "name": "stdout",
     "output_type": "stream",
     "text": [
      "Year\n",
      "Month\n",
      "Day\n",
      "Country\n",
      "Region\n",
      "city\n",
      "latitude\n",
      "longitude\n",
      "AttackType\n",
      "Killed\n",
      "Wounded\n",
      "Target\n",
      "Group\n",
      "Target_type\n",
      "Weapon_type\n",
      "casualities\n",
      "\n"
     ]
    }
   ],
   "source": [
    "import csv\n",
    "\n",
    "with open('year2017.csv','r') as file:\n",
    "#     file_data = csv.DictReader(file)\n",
    "    file_data = file.readline()\n",
    "    column_data = file_data.split(\",\")\n",
    "    for name in column_data:\n",
    "        print(name)"
   ]
  },
  {
   "cell_type": "code",
   "execution_count": 33,
   "id": "43e6e0a9",
   "metadata": {},
   "outputs": [
    {
     "name": "stdout",
     "output_type": "stream",
     "text": [
      "Afghanistan\n",
      "Sudan\n",
      "Democratic Republic of the Congo\n",
      "Democratic Republic of the Congo\n",
      "Turkey\n",
      "Syria\n",
      "Pakistan\n",
      "Italy\n",
      "Turkey\n",
      "Turkey\n"
     ]
    }
   ],
   "source": [
    "with open('year2017.csv','r') as file:\n",
    "    file_data = csv.DictReader(file)\n",
    "    i = 0\n",
    "    for d in dict_data:\n",
    "        if i<10:\n",
    "            print(d['Country'])\n",
    "        else:\n",
    "            break\n",
    "        i = i+1"
   ]
  },
  {
   "cell_type": "code",
   "execution_count": 37,
   "id": "7f0f49b6",
   "metadata": {},
   "outputs": [
    {
     "name": "stdout",
     "output_type": "stream",
     "text": [
      "24927\n"
     ]
    }
   ],
   "source": [
    "import csv\n",
    "with open('year2017.csv','r') as file_obj:\n",
    "    file_data = csv.DictReader(file_obj)\n",
    "    count = 0\n",
    "    for d in file_data:\n",
    "        wounded_count = d['Wounded']\n",
    "        if wounded_count == '':\n",
    "            continue\n",
    "        else:\n",
    "            count = int(float(wounded_count)) + count\n",
    "    print(count)"
   ]
  },
  {
   "cell_type": "code",
   "execution_count": 38,
   "id": "1683ee6b",
   "metadata": {},
   "outputs": [
    {
     "name": "stdout",
     "output_type": "stream",
     "text": [
      "702\n"
     ]
    }
   ],
   "source": [
    "import csv\n",
    "with open('year2017.csv','r') as file_obj:\n",
    "    file_data = csv.DictReader(file_obj)\n",
    "    count = 0\n",
    "    for d in file_data:\n",
    "        wounded = d['Wounded']\n",
    "        if d['Country'] == 'India' and wounded!='':\n",
    "            count = count + int(float(wounded))\n",
    "    print(count)"
   ]
  },
  {
   "cell_type": "code",
   "execution_count": 40,
   "id": "8e7355f7",
   "metadata": {},
   "outputs": [
    {
     "name": "stdout",
     "output_type": "stream",
     "text": [
      "29280\n"
     ]
    }
   ],
   "source": [
    "import csv\n",
    "with open('year2017.csv','r') as file_obj:\n",
    "    file_data = csv.DictReader(file_obj)\n",
    "    count = 0\n",
    "    for d in file_data:\n",
    "        cal = d['casualities']\n",
    "        if d['Weapon_type'] == 'Explosives' and cal!='':\n",
    "            count = count + int(float(cal))\n",
    "    print(count)"
   ]
  },
  {
   "cell_type": "code",
   "execution_count": 15,
   "id": "e98aa54a",
   "metadata": {},
   "outputs": [
    {
     "name": "stdout",
     "output_type": "stream",
     "text": [
      "January 2275\n",
      "February 2027\n",
      "March 2463\n",
      "April 2142\n",
      "May 2936\n",
      "June 2506\n",
      "July 2228\n",
      "August 2145\n",
      "September 1764\n",
      "October 2580\n",
      "November 2014\n",
      "December 1365\n"
     ]
    }
   ],
   "source": [
    "import csv\n",
    "with open('year2017.csv','r') as file_obj:\n",
    "    file_data = csv.DictReader(file_obj)\n",
    "    m = {'1':'January','2':'February','3':'March','4':'April','5':'May','6':'June','7':'July','8':'August','9':'September','10':'October','11':'November','12':'December'}\n",
    "    finalD = {}\n",
    "    for d in file_data:\n",
    "        month = m[d['Month']]\n",
    "        if d['Killed'] != '':\n",
    "            if month in finalD:\n",
    "                finalD[month] = finalD[month] + int(float(d['Killed']))\n",
    "            else:\n",
    "                finalD[month] = int(float(d['Killed']))\n",
    "    for i in finalD:\n",
    "        print(i,finalD[i])"
   ]
  },
  {
   "cell_type": "code",
   "execution_count": 18,
   "id": "0a3d2504",
   "metadata": {},
   "outputs": [
    {
     "name": "stdout",
     "output_type": "stream",
     "text": [
      "Afghanistan 11698\n",
      "Sudan 255\n",
      "Democratic Republic of the Congo 636\n",
      "Turkey 548\n",
      "Pakistan 3153\n",
      "Italy 8\n",
      "Somalia 3038\n",
      "Bahrain 32\n",
      "Myanmar 85\n",
      "Burundi 147\n",
      "Iraq 10999\n",
      "Burkina Faso 98\n",
      "India 1157\n",
      "Algeria 31\n",
      "United States 1027\n",
      "Philippines 1148\n",
      "Greece 7\n",
      "Mali 657\n",
      "Yemen 1446\n",
      "Libya 316\n",
      "Central African Republic 569\n",
      "Egypt 1499\n",
      "Lebanon 66\n",
      "Mexico 29\n",
      "Cameroon 448\n",
      "Ethiopia 80\n",
      "Nigeria 2300\n",
      "Kyrgyzstan 0\n",
      "Syria 2731\n",
      "Serbia 1\n",
      "Sweden 37\n",
      "Thailand 342\n",
      "Iran 106\n",
      "France 35\n",
      "United Kingdom 343\n",
      "West Bank and Gaza Strip 125\n",
      "Ukraine 104\n",
      "Paraguay 5\n",
      "Colombia 188\n",
      "Malaysia 6\n",
      "Russia 175\n",
      "Kosovo 4\n",
      "South Africa 28\n",
      "Chile 2\n",
      "Kenya 204\n",
      "Israel 18\n",
      "Saudi Arabia 100\n",
      "China 92\n",
      "Nepal 97\n",
      "Ecuador 0\n",
      "Niger 210\n",
      "Venezuela 37\n",
      "South Sudan 836\n",
      "Canada 31\n",
      "Bangladesh 97\n",
      "Tajikistan 1\n",
      "Ireland 0\n",
      "Peru 12\n",
      "Angola 416\n",
      "Dominican Republic 3\n",
      "Poland 0\n",
      "Jordan 5\n",
      "Azerbaijan 7\n",
      "Mozambique 33\n",
      "Indonesia 47\n",
      "Germany 11\n",
      "Brazil 0\n",
      "Macedonia 0\n",
      "Tunisia 10\n",
      "Uganda 9\n",
      "Chad 2\n",
      "Finland 12\n",
      "Australia 25\n",
      "Norway 0\n",
      "Vietnam 0\n",
      "Tanzania 10\n",
      "Sierra Leone 0\n",
      "Sri Lanka 4\n",
      "Maldives 1\n",
      "Belgium 4\n",
      "Rwanda 10\n",
      "Honduras 2\n",
      "Czech Republic 0\n",
      "Malta 1\n",
      "Gabon 2\n",
      "Laos 1\n",
      "Austria 2\n",
      "Zambia 0\n",
      "Argentina 0\n",
      "Zimbabwe 1\n",
      "Ivory Coast 5\n",
      "Papua New Guinea 3\n",
      "Spain 132\n",
      "Taiwan 1\n",
      "Jamaica 0\n",
      "Albania 0\n",
      "Liberia 0\n",
      "Georgia 5\n",
      "Malawi 0\n",
      "Netherlands 0\n",
      "Latvia 0\n"
     ]
    }
   ],
   "source": [
    "import csv\n",
    "with open('year2017.csv','r') as file:\n",
    "    file_data = csv.DictReader(file)\n",
    "    country = {}\n",
    "    for d in file_data:\n",
    "        name = d['Country']\n",
    "        if d['casualities'] != '':\n",
    "            if name in country:\n",
    "                country[name] = country[name] + int(float(d['casualities']))\n",
    "            else:\n",
    "                country[name] = int(float(d['casualities']))\n",
    "    for c in country:\n",
    "        print(c,country[c])"
   ]
  },
  {
   "cell_type": "code",
   "execution_count": 34,
   "id": "23ed68cc",
   "metadata": {},
   "outputs": [
    {
     "name": "stdout",
     "output_type": "stream",
     "text": [
      "Banglore 66\n",
      "Seattle 1856\n"
     ]
    }
   ],
   "source": [
    "import csv\n",
    "with open('amazon_jobs_dataset.csv','r',encoding=\"utf8\") as file_obj:\n",
    "    file_data = csv.DictReader(file_obj,skipinitialspace=True)\n",
    "    count1 = 0\n",
    "    count2 = 0\n",
    "    for d in file_data:\n",
    "        if d['location'] == 'US, WA, Seattle ':\n",
    "            count1 = count1 + 1\n",
    "        elif d['location'] == 'IN, KA, Bangalore ':\n",
    "            count2 = count2 + 1\n",
    "    print('Banglore',count2)\n",
    "    print('Seattle',count1)"
   ]
  },
  {
   "cell_type": "code",
   "execution_count": 40,
   "id": "4f9de6cc",
   "metadata": {},
   "outputs": [
    {
     "name": "stdout",
     "output_type": "stream",
     "text": [
      "14\n"
     ]
    }
   ],
   "source": [
    "import csv\n",
    "with open('amazon_jobs_dataset.csv','r',encoding=\"utf8\") as file:\n",
    "    file_data = csv.DictReader(file)\n",
    "    count = 0\n",
    "    for d in file_data:\n",
    "        if 'Computer Vision' in d['Title']:\n",
    "            count = count+1\n",
    "    print(count)"
   ]
  },
  {
   "cell_type": "code",
   "execution_count": 41,
   "id": "0a2b69a7",
   "metadata": {},
   "outputs": [
    {
     "name": "stdout",
     "output_type": "stream",
     "text": [
      "776\n"
     ]
    }
   ],
   "source": [
    "import csv\n",
    "with open('amazon_jobs_dataset.csv','r',encoding=\"utf8\") as file:\n",
    "    file_data = csv.DictReader(file)\n",
    "    count = 0\n",
    "    for d in file_data:\n",
    "        if 'CA' in d['location']:\n",
    "            count = count+1\n",
    "    print(count)"
   ]
  },
  {
   "cell_type": "code",
   "execution_count": 49,
   "id": "64964634",
   "metadata": {},
   "outputs": [
    {
     "name": "stdout",
     "output_type": "stream",
     "text": [
      "January 961\n"
     ]
    }
   ],
   "source": [
    "import csv\n",
    "with open('amazon_jobs_dataset.csv','r',encoding=\"utf8\") as file:\n",
    "    file_data = csv.DictReader(file)\n",
    "    m = {}\n",
    "    for d in file_data:\n",
    "        month = d['Posting_date'].split(\" \")[0]\n",
    "        if month in m:\n",
    "            m[month] = m[month] + 1\n",
    "        else:\n",
    "            m[month] = 1\n",
    "    l = m.values()\n",
    "    maxJobs = max(l)\n",
    "    for i in m:\n",
    "        if m[i] == maxJobs:\n",
    "            print(i,m[i])"
   ]
  },
  {
   "cell_type": "code",
   "execution_count": 48,
   "id": "a3fd2ffd",
   "metadata": {},
   "outputs": [
    {
     "name": "stdout",
     "output_type": "stream",
     "text": [
      "2961\n"
     ]
    }
   ],
   "source": [
    "import csv\n",
    "with open('amazon_jobs_dataset.csv','r',encoding=\"utf8\") as file:\n",
    "    file_data = csv.DictReader(file)\n",
    "    count = 0\n",
    "    for d in file_data:\n",
    "        if 'Bachelor' in d['BASIC QUALIFICATIONS'] or 'BS' in d['BASIC QUALIFICATIONS'] or 'BA' in d['BASIC QUALIFICATIONS']:\n",
    "            count = count + 1\n",
    "    print(count)"
   ]
  },
  {
   "cell_type": "code",
   "execution_count": 8,
   "id": "18e094d8",
   "metadata": {},
   "outputs": [
    {
     "name": "stdout",
     "output_type": "stream",
     "text": [
      "java 103\n"
     ]
    }
   ],
   "source": [
    "import csv\n",
    "with open('amazon_jobs_dataset.csv','r',encoding=\"utf8\") as file:\n",
    "    file_data = csv.DictReader(file)\n",
    "    python = 0\n",
    "    cpp = 0\n",
    "    java = 0\n",
    "    for lang in file_data:\n",
    "        country = lang['location'].split(\",\")[0]\n",
    "        if country == 'IN':\n",
    "            if ('Bachelor' in lang['BASIC QUALIFICATIONS'] or 'BS' in lang['BASIC QUALIFICATIONS'] or 'BA' in lang['BASIC QUALIFICATIONS']):\n",
    "                if 'C++' in lang['BASIC QUALIFICATIONS']:\n",
    "                    cpp = cpp + 1\n",
    "                if 'Java' in lang['BASIC QUALIFICATIONS']:\n",
    "                    java = java + 1\n",
    "                if 'Python' in lang['BASIC QUALIFICATIONS']:\n",
    "                    python = python + 1\n",
    "    if cpp > java and cpp > python:\n",
    "        print('C++',cpp)\n",
    "    elif java > cpp and java > python:\n",
    "        print('java',java)\n",
    "    else:\n",
    "        print('Python',python)"
   ]
  },
  {
   "cell_type": "code",
   "execution_count": 14,
   "id": "66c9eb01",
   "metadata": {},
   "outputs": [
    {
     "name": "stdout",
     "output_type": "stream",
     "text": [
      "US 2009\n"
     ]
    }
   ],
   "source": [
    "import csv\n",
    "with open('amazon_jobs_dataset.csv','r',encoding=\"utf8\") as file:\n",
    "    file_data = csv.DictReader(file)\n",
    "    country = {}\n",
    "    for d in file_data:\n",
    "        if 'Java' in d['BASIC QUALIFICATIONS']:\n",
    "            name = d['location'].split(\",\")[0]\n",
    "            if name in country:\n",
    "                country[name] = country[name] + 1\n",
    "            else:\n",
    "                country[name] = 1\n",
    "    value = country.values()\n",
    "    value = max(value)\n",
    "    for i in country:\n",
    "        if country[i] == value:\n",
    "            print(i,country[i])\n",
    "            break"
   ]
  }
 ],
 "metadata": {
  "kernelspec": {
   "display_name": "Python 3 (ipykernel)",
   "language": "python",
   "name": "python3"
  },
  "language_info": {
   "codemirror_mode": {
    "name": "ipython",
    "version": 3
   },
   "file_extension": ".py",
   "mimetype": "text/x-python",
   "name": "python",
   "nbconvert_exporter": "python",
   "pygments_lexer": "ipython3",
   "version": "3.10.1"
  }
 },
 "nbformat": 4,
 "nbformat_minor": 5
}
