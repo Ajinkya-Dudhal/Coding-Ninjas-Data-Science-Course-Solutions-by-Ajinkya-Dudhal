{
 "cells": [
  {
   "cell_type": "code",
   "execution_count": 12,
   "id": "a89f4455",
   "metadata": {},
   "outputs": [
    {
     "name": "stdout",
     "output_type": "stream",
     "text": [
      "Srinagar 3134\n",
      "New Delhi 2095\n",
      "Mumbai 2016\n",
      "Jammu 1119\n",
      "Guwahati 822\n"
     ]
    }
   ],
   "source": [
    "import numpy as np\n",
    "import csv\n",
    "from collections import Counter\n",
    "\n",
    "with open('terrorismData.csv',encoding='utf8') as file_obj:\n",
    "    file_data = csv.DictReader(file_obj)\n",
    "    killed = []\n",
    "    wounded = []\n",
    "    city = []\n",
    "    for d in file_data:\n",
    "        if d['Country']=='India' and d['City']!='Unknown':\n",
    "            city.append(d['City'])\n",
    "            killed.append(d['Killed'])\n",
    "            wounded.append(d['Wounded'])\n",
    "    city_arr = np.array(city)\n",
    "    killed_arr = np.array(killed)\n",
    "    wounded_arr = np.array(wounded)\n",
    "    \n",
    "    killed_arr[killed_arr==''] = '0.0'\n",
    "    wounded_arr[wounded_arr==''] = '0.0'\n",
    "    killed_arr = np.array(killed_arr,dtype=float)\n",
    "    wounded_arr = np.array(wounded_arr,dtype=float)\n",
    "    \n",
    "    killed_wounded = np.array(killed_arr + wounded_arr)\n",
    "    \n",
    "    d = {}\n",
    "    for i in range(len(city)):\n",
    "        if city[i] in d:\n",
    "            d[city[i]] = d[city[i]] + killed_wounded[i]\n",
    "        else:\n",
    "            d[city[i]] = killed_wounded[i]\n",
    "    \n",
    "    k = Counter(d)\n",
    "    high = k.most_common(5)\n",
    "    for i in high:\n",
    "        print(i[0],int(i[1]))"
   ]
  },
  {
   "cell_type": "code",
   "execution_count": 14,
   "id": "01d3e925",
   "metadata": {},
   "outputs": [
    {
     "name": "stdout",
     "output_type": "stream",
     "text": [
      "15 6500\n"
     ]
    }
   ],
   "source": [
    "import numpy as np\n",
    "import csv\n",
    "\n",
    "with open('terrorismData.csv',encoding='utf8') as file_obj:\n",
    "    file_data = csv.DictReader(file_obj)\n",
    "    day = []\n",
    "    for d in file_data:\n",
    "        day.append(d['Day'])\n",
    "    day_arr = np.array(day,dtype=int)\n",
    "    day,count = np.unique(day_arr,return_counts=True)\n",
    "    count_max = np.argmax(count)\n",
    "    print(day[count_max],count[count_max])"
   ]
  }
 ],
 "metadata": {
  "kernelspec": {
   "display_name": "Python 3 (ipykernel)",
   "language": "python",
   "name": "python3"
  },
  "language_info": {
   "codemirror_mode": {
    "name": "ipython",
    "version": 3
   },
   "file_extension": ".py",
   "mimetype": "text/x-python",
   "name": "python",
   "nbconvert_exporter": "python",
   "pygments_lexer": "ipython3",
   "version": "3.10.1"
  }
 },
 "nbformat": 4,
 "nbformat_minor": 5
}
