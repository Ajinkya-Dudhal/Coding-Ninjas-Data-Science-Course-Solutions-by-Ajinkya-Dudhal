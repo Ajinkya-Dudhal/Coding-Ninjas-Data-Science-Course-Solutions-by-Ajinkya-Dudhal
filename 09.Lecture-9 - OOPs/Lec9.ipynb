{
 "cells": [
  {
   "cell_type": "code",
   "execution_count": 2,
   "id": "402adb8e",
   "metadata": {},
   "outputs": [],
   "source": [
    "class Student:\n",
    "    pass"
   ]
  },
  {
   "cell_type": "code",
   "execution_count": 9,
   "id": "221b7fef",
   "metadata": {},
   "outputs": [],
   "source": [
    "s1 = Student()\n",
    "s2 = Student()\n",
    "s3 = Student()"
   ]
  },
  {
   "cell_type": "code",
   "execution_count": 10,
   "id": "a358e5e1",
   "metadata": {},
   "outputs": [],
   "source": [
    "s1.name = 'Ajinkya'\n",
    "s1.age = 27\n",
    "s2.rollNumber = 101"
   ]
  },
  {
   "cell_type": "code",
   "execution_count": 13,
   "id": "b3a5b0cd",
   "metadata": {},
   "outputs": [],
   "source": [
    "s3.age = 20"
   ]
  },
  {
   "cell_type": "code",
   "execution_count": 15,
   "id": "54a8de08",
   "metadata": {},
   "outputs": [
    {
     "name": "stdout",
     "output_type": "stream",
     "text": [
      "{'name': 'Ajinkya', 'age': 27}\n",
      "{'rollNumber': 101}\n",
      "{'age': 20}\n"
     ]
    }
   ],
   "source": [
    "print(s1.__dict__)\n",
    "print(s2.__dict__)\n",
    "print(s3.__dict__)"
   ]
  },
  {
   "cell_type": "code",
   "execution_count": 17,
   "id": "f949690b",
   "metadata": {},
   "outputs": [
    {
     "name": "stdout",
     "output_type": "stream",
     "text": [
      "{}\n"
     ]
    }
   ],
   "source": [
    "s4 = Student()\n",
    "print(s4.__dict__)"
   ]
  },
  {
   "cell_type": "code",
   "execution_count": 21,
   "id": "9e70daea",
   "metadata": {},
   "outputs": [
    {
     "name": "stdout",
     "output_type": "stream",
     "text": [
      "Ajinkya\n"
     ]
    }
   ],
   "source": [
    "print(s1.name)"
   ]
  },
  {
   "cell_type": "code",
   "execution_count": 25,
   "id": "878d7fa2",
   "metadata": {},
   "outputs": [
    {
     "data": {
      "text/plain": [
       "False"
      ]
     },
     "execution_count": 25,
     "metadata": {},
     "output_type": "execute_result"
    }
   ],
   "source": [
    "hasattr(s1,'name')\n",
    "hasattr(s2,'name')"
   ]
  },
  {
   "cell_type": "code",
   "execution_count": 29,
   "id": "bf0d5881",
   "metadata": {},
   "outputs": [
    {
     "name": "stdout",
     "output_type": "stream",
     "text": [
      "Ajinkya\n",
      "Mukund\n"
     ]
    }
   ],
   "source": [
    "print(getattr(s1,'name'))\n",
    "print(getattr(s2,'name','Mukund'))"
   ]
  },
  {
   "cell_type": "code",
   "execution_count": 33,
   "id": "08551e44",
   "metadata": {},
   "outputs": [],
   "source": [
    "class Student:\n",
    "    totalStudents = 40\n",
    "    classTecher = 'Jagdale'\n",
    "    \n",
    "s1 = Student()\n",
    "s2 = Student()"
   ]
  },
  {
   "cell_type": "code",
   "execution_count": 34,
   "id": "ed189ec8",
   "metadata": {},
   "outputs": [
    {
     "name": "stdout",
     "output_type": "stream",
     "text": [
      "{'__module__': '__main__', 'totalStudents': 30, 'classTecher': 'Jagdale', '__dict__': <attribute '__dict__' of 'Student' objects>, '__weakref__': <attribute '__weakref__' of 'Student' objects>, '__doc__': None}\n"
     ]
    }
   ],
   "source": [
    "Student.totalStudents = 30\n",
    "print(Student.__dict__)"
   ]
  },
  {
   "cell_type": "code",
   "execution_count": 41,
   "id": "4c633d85",
   "metadata": {},
   "outputs": [
    {
     "ename": "SyntaxError",
     "evalue": "invalid syntax. Perhaps you forgot a comma? (547728156.py, line 6)",
     "output_type": "error",
     "traceback": [
      "\u001b[1;36m  Input \u001b[1;32mIn [41]\u001b[1;36m\u001b[0m\n\u001b[1;33m    print(\"Constuctor is called\")\u001b[0m\n\u001b[1;37m    ^\u001b[0m\n\u001b[1;31mSyntaxError\u001b[0m\u001b[1;31m:\u001b[0m invalid syntax. Perhaps you forgot a comma?\n"
     ]
    }
   ],
   "source": [
    "class Student:\n",
    "    totalStudents = 20\n",
    "    classTeacherName = 'Sam Darshi'\n",
    "    \n",
    "    def __init__(self,name,age,rn:\n",
    "        print(\"Constuctor is called\")\n",
    "        self.name = name\n",
    "        self.age = age\n",
    "        self.rollNumber = rn\n",
    "    \n",
    "    def printHello(self):\n",
    "        print(\"Hello\")\n",
    "        \n",
    "    def print(self,str):\n",
    "        print(str)\n",
    "        \n",
    "    def printName(self):\n",
    "        print(self.name)\n",
    "        \n",
    "    def addName(self, name):\n",
    "        self.name = name\n",
    "\n",
    "    def test(self):\n",
    "        Student.totalStudents = 30\n",
    "        print(Student.totalStudents)\n",
    "        Student.test_class = 90\n",
    "        \n",
    "s1 = Student('Ajinkya',27,101)\n",
    "s2 = Student('Mukund',27,102)"
   ]
  },
  {
   "cell_type": "code",
   "execution_count": 42,
   "id": "aed4912a",
   "metadata": {},
   "outputs": [
    {
     "name": "stdout",
     "output_type": "stream",
     "text": [
      "{'name': 'Ajinkya', 'age': 27, 'rollNumber': 101}\n",
      "{'name': 'Mukund', 'age': 27, 'rollNumber': 102}\n"
     ]
    }
   ],
   "source": [
    "print(s1.__dict__)\n",
    "print(s2.__dict__)"
   ]
  },
  {
   "cell_type": "code",
   "execution_count": 48,
   "id": "535bf2c3",
   "metadata": {},
   "outputs": [],
   "source": [
    "class Student:\n",
    "    def __init__(self,name,age):\n",
    "        self.__name = 'Rohan'\n",
    "        self.age = 20\n",
    "        \n",
    "    def getName(self):\n",
    "        return self.__name\n",
    "    \n",
    "    def print_student_details(self):\n",
    "        print(self.__name,end=' ')\n",
    "        print(self.age)"
   ]
  },
  {
   "cell_type": "code",
   "execution_count": 49,
   "id": "e5310263",
   "metadata": {},
   "outputs": [
    {
     "name": "stdout",
     "output_type": "stream",
     "text": [
      "Rohan 20\n",
      "Rohan\n"
     ]
    }
   ],
   "source": [
    "s = Student('Mohit',30)\n",
    "s.print_student_details()\n",
    "print(s.getName())"
   ]
  }
 ],
 "metadata": {
  "kernelspec": {
   "display_name": "Python 3 (ipykernel)",
   "language": "python",
   "name": "python3"
  },
  "language_info": {
   "codemirror_mode": {
    "name": "ipython",
    "version": 3
   },
   "file_extension": ".py",
   "mimetype": "text/x-python",
   "name": "python",
   "nbconvert_exporter": "python",
   "pygments_lexer": "ipython3",
   "version": "3.10.1"
  }
 },
 "nbformat": 4,
 "nbformat_minor": 5
}
