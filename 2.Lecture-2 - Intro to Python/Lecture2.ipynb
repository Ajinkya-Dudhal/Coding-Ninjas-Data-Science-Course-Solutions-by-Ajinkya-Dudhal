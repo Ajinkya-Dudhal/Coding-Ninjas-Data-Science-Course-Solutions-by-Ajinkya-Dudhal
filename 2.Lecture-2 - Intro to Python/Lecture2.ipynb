{
 "cells": [
  {
   "cell_type": "markdown",
   "id": "59ddff16",
   "metadata": {},
   "source": [
    "# Find Avg Marks"
   ]
  },
  {
   "cell_type": "code",
   "execution_count": 2,
   "id": "1ad462a1",
   "metadata": {},
   "outputs": [
    {
     "name": "stdout",
     "output_type": "stream",
     "text": [
      "5\n",
      "10\n",
      "5\n",
      "6.666666666666667\n"
     ]
    }
   ],
   "source": [
    "a = int(input().split(\" \"))\n",
    "b = int(input())\n",
    "c = int(input())\n",
    "\n",
    "avg = (a+b+c)/3\n",
    "print(avg)"
   ]
  },
  {
   "cell_type": "markdown",
   "id": "874e203e",
   "metadata": {},
   "source": [
    "# X to power N"
   ]
  },
  {
   "cell_type": "code",
   "execution_count": null,
   "id": "b46d7c75",
   "metadata": {},
   "outputs": [],
   "source": [
    "x = int(input())\n",
    "n = int(input())\n",
    "\n",
    "print(x**n)"
   ]
  },
  {
   "cell_type": "markdown",
   "id": "9bcfc921",
   "metadata": {},
   "source": [
    "# Arithmetic Progression"
   ]
  },
  {
   "cell_type": "code",
   "execution_count": 3,
   "id": "c49ca61a",
   "metadata": {},
   "outputs": [
    {
     "name": "stdout",
     "output_type": "stream",
     "text": [
      "1\n",
      "2\n",
      "3\n",
      "1\n"
     ]
    }
   ],
   "source": [
    "a = int(input())\n",
    "b = int(input())\n",
    "c = int(input())\n",
    "\n",
    "print(b-a)"
   ]
  },
  {
   "cell_type": "markdown",
   "id": "74f2ca71",
   "metadata": {},
   "source": [
    "# Rectangular Area"
   ]
  },
  {
   "cell_type": "code",
   "execution_count": 4,
   "id": "e9b0af09",
   "metadata": {},
   "outputs": [
    {
     "name": "stdout",
     "output_type": "stream",
     "text": [
      "1\n",
      "2\n",
      "3\n",
      "4\n",
      "4\n"
     ]
    }
   ],
   "source": [
    "x1 = int(input())\n",
    "y1 = int(input())\n",
    "x2 = int(input())\n",
    "y2 = int(input())\n",
    "\n",
    "area = (x2-x1) * (y2-y1)\n",
    "print(area)"
   ]
  },
  {
   "cell_type": "code",
   "execution_count": 14,
   "id": "ab064900",
   "metadata": {},
   "outputs": [
    {
     "name": "stdout",
     "output_type": "stream",
     "text": [
      "4\n",
      "4444\n",
      "333\n",
      "22\n",
      "1\n"
     ]
    }
   ],
   "source": [
    "n = int(input())\n",
    "i = n\n",
    "while i>=1:\n",
    "    j = i\n",
    "    while j>=1:\n",
    "        print(i,end='')\n",
    "        j = j-1\n",
    "    i = i-1\n",
    "    print()"
   ]
  },
  {
   "cell_type": "code",
   "execution_count": 10,
   "id": "9d3f82d2",
   "metadata": {},
   "outputs": [
    {
     "name": "stdout",
     "output_type": "stream",
     "text": [
      "10\n",
      "J\n",
      "IJ\n",
      "HIJ\n",
      "GHIJ\n",
      "FGHIJ\n",
      "EFGHIJ\n",
      "DEFGHIJ\n",
      "CDEFGHIJ\n",
      "BCDEFGHIJ\n",
      "ABCDEFGHIJ\n"
     ]
    }
   ],
   "source": [
    "n = int(input())\n",
    "i = 1\n",
    "while i<=n:\n",
    "    p = chr(ord('A')+n-i)\n",
    "    j = 1\n",
    "    while j<=i:\n",
    "        q = chr(ord(p)+j-1)\n",
    "        print(q,end='')\n",
    "        j = j+1\n",
    "    print()\n",
    "    i = i+1"
   ]
  },
  {
   "cell_type": "code",
   "execution_count": 15,
   "id": "f5fafd10",
   "metadata": {},
   "outputs": [
    {
     "name": "stdout",
     "output_type": "stream",
     "text": [
      "4\n",
      "   *\n",
      "  ***\n",
      " *****\n",
      "*******\n"
     ]
    }
   ],
   "source": [
    "n=int(input())\n",
    "i=1\n",
    "while i<=n:\n",
    "  space=1\n",
    "  while space<=n-i:\n",
    "    print(' ',end=\"\")\n",
    "    space=space+1\n",
    "  j=1\n",
    "  while j<=2*i-1:\n",
    "    print('*',end=\"\")\n",
    "    j=j+1\n",
    "  print()\n",
    "  i=i+1"
   ]
  },
  {
   "cell_type": "code",
   "execution_count": 3,
   "id": "b0e13114",
   "metadata": {},
   "outputs": [
    {
     "name": "stdout",
     "output_type": "stream",
     "text": [
      "3\n",
      "  *\n",
      " ***\n",
      "*****\n",
      " ***\n",
      "  *\n"
     ]
    }
   ],
   "source": [
    "n=int(input())\n",
    "i=1\n",
    "while i<=n:\n",
    "  space=1\n",
    "  while space<=n-i:\n",
    "    print(' ',end=\"\")\n",
    "    space=space+1\n",
    "  j=1\n",
    "  while j<=2*i-1:\n",
    "    print('*',end=\"\")\n",
    "    j=j+1\n",
    "  print()\n",
    "  i=i+1\n",
    "\n",
    "i=n-1\n",
    "while i>=1:\n",
    "    space=1\n",
    "    while space<=n-i:\n",
    "        print(' ',end=\"\")\n",
    "        space=space+1\n",
    "    j=1\n",
    "    while j<=2*i-1:\n",
    "        print('*',end=\"\")\n",
    "        j=j+1\n",
    "    print()\n",
    "    i=i-1"
   ]
  },
  {
   "cell_type": "code",
   "execution_count": 5,
   "id": "c8f0fd39",
   "metadata": {},
   "outputs": [
    {
     "name": "stdout",
     "output_type": "stream",
     "text": [
      "4\n",
      "   1\n",
      "  23\n",
      " 345\n",
      "4567\n"
     ]
    }
   ],
   "source": [
    "n = int(input())\n",
    "i = 1\n",
    "while i<=n:\n",
    "    spaces = 1\n",
    "    while spaces<=n-i:\n",
    "        print(\" \",end='')\n",
    "        spaces = spaces+1\n",
    "    j = i\n",
    "    k = 1\n",
    "    while k<=i:\n",
    "        print(j,end='')\n",
    "        j = j+1\n",
    "        k = k+1\n",
    "    print()\n",
    "    i = i+1"
   ]
  },
  {
   "cell_type": "code",
   "execution_count": 7,
   "id": "947ed66b",
   "metadata": {},
   "outputs": [
    {
     "name": "stdout",
     "output_type": "stream",
     "text": [
      "4\n",
      "   1\n",
      "  23\n",
      " 456\n",
      "78910\n"
     ]
    }
   ],
   "source": [
    "n = int(input())\n",
    "i = 1\n",
    "j = 1\n",
    "while i<=n:\n",
    "    spaces = 1\n",
    "    while spaces<=n-i:\n",
    "        print(\" \",end='')\n",
    "        spaces = spaces+1\n",
    "    k = 1\n",
    "    while k<=i:\n",
    "        print(j,end='')\n",
    "        j = j+1\n",
    "        k = k+1\n",
    "    print()\n",
    "    i = i+1"
   ]
  },
  {
   "cell_type": "code",
   "execution_count": 12,
   "id": "c73d7fe9",
   "metadata": {},
   "outputs": [
    {
     "name": "stdout",
     "output_type": "stream",
     "text": [
      "5\n",
      "    1\n",
      "   232\n",
      "  34543\n",
      " 4567654\n",
      "567898765\n"
     ]
    }
   ],
   "source": [
    "n = int(input())\n",
    "i = 1\n",
    "while i<=n:\n",
    "    spaces = 1\n",
    "    while spaces<=n-i:\n",
    "        print(\" \",end='')\n",
    "        spaces = spaces+1\n",
    "    j = i\n",
    "    k = 1\n",
    "    while k<=i:\n",
    "        print(j,end='')\n",
    "        j = j+1\n",
    "        k = k+1\n",
    "    j=j-2\n",
    "    while j>=i:\n",
    "        print(j,end='')\n",
    "        j=j-1\n",
    "    print()\n",
    "    i = i+1"
   ]
  },
  {
   "cell_type": "code",
   "execution_count": 8,
   "id": "2dd88b68",
   "metadata": {},
   "outputs": [
    {
     "name": "stdout",
     "output_type": "stream",
     "text": [
      "4\n",
      "   1\n",
      "  34\n",
      " 567\n",
      "78910\n"
     ]
    }
   ],
   "source": [
    "n=int(input())\n",
    "i=1\n",
    "while i<= n:\n",
    "  space=1\n",
    "  while space<=n-i:\n",
    "    print(' ',end=\"\")\n",
    "    space=space+1 \n",
    "\n",
    "  j=1 \n",
    "  p=2*i-1\n",
    "  while j<=i:\n",
    "    print(p ,end=\"\")\n",
    "    j=j+1\n",
    "    p=p+1\n",
    "  print()\n",
    "  i=i+1"
   ]
  }
 ],
 "metadata": {
  "kernelspec": {
   "display_name": "Python 3 (ipykernel)",
   "language": "python",
   "name": "python3"
  },
  "language_info": {
   "codemirror_mode": {
    "name": "ipython",
    "version": 3
   },
   "file_extension": ".py",
   "mimetype": "text/x-python",
   "name": "python",
   "nbconvert_exporter": "python",
   "pygments_lexer": "ipython3",
   "version": "3.10.1"
  }
 },
 "nbformat": 4,
 "nbformat_minor": 5
}
