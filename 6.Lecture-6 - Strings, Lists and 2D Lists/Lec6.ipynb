{
 "cells": [
  {
   "cell_type": "code",
   "execution_count": 5,
   "id": "e41d3071",
   "metadata": {},
   "outputs": [
    {
     "name": "stdout",
     "output_type": "stream",
     "text": [
      "abcde\n",
      "False\n"
     ]
    }
   ],
   "source": [
    "s = input()\n",
    "print(s[0:]==s[::-1])"
   ]
  },
  {
   "cell_type": "code",
   "execution_count": 6,
   "id": "29f2c243",
   "metadata": {},
   "outputs": [
    {
     "name": "stdout",
     "output_type": "stream",
     "text": [
      "abcd\n",
      "\n"
     ]
    }
   ],
   "source": [
    "s = input()\n",
    "print(s[0:0])"
   ]
  },
  {
   "cell_type": "code",
   "execution_count": 8,
   "id": "418e650b",
   "metadata": {},
   "outputs": [
    {
     "name": "stdout",
     "output_type": "stream",
     "text": [
      "co\n",
      "c\n",
      "co\n",
      "o\n"
     ]
    }
   ],
   "source": [
    "s = input()\n",
    "for i in range(len(s)):\n",
    "    for j in range(i,len(s)):\n",
    "9        print(s[i:j+1])"
   ]
  },
  {
   "cell_type": "code",
   "execution_count": 13,
   "id": "3326d89f",
   "metadata": {},
   "outputs": [
    {
     "name": "stdout",
     "output_type": "stream",
     "text": [
      "9 3 6 12 4 32 5 11 19\n",
      "[3, 9, 12, 6, 32, 4, 11, 5, 19]\n"
     ]
    }
   ],
   "source": [
    "line = [int(s) for s in input().split(\" \")]\n",
    "for i in range(0,len(line),2):\n",
    "    if len(line) != i+1:\n",
    "        temp = line[i]\n",
    "        line[i] = line[i+1]\n",
    "        line[i+1] = temp\n",
    "print(line)"
   ]
  },
  {
   "cell_type": "code",
   "execution_count": 11,
   "id": "8d24358d",
   "metadata": {},
   "outputs": [
    {
     "name": "stdout",
     "output_type": "stream",
     "text": [
      "xxyyzxx\n",
      "xyzx\n"
     ]
    }
   ],
   "source": [
    "s = input()\n",
    "final_str = s[0]\n",
    "for i in range(1,len(s)):\n",
    "    if s[i] != final_str[len(final_str)-1]:\n",
    "        final_str = final_str + s[i]\n",
    "print(final_str)"
   ]
  },
  {
   "cell_type": "code",
   "execution_count": 13,
   "id": "6c8fc929",
   "metadata": {},
   "outputs": [
    {
     "name": "stdout",
     "output_type": "stream",
     "text": [
      "Welcome to Coding Ninjas\n",
      "emocleW ot gnidoC sajniN \n"
     ]
    }
   ],
   "source": [
    "line = input()\n",
    "line = line.split(\" \")\n",
    "s = ''\n",
    "for l in line:\n",
    "    s = s + l[::-1] + ' '\n",
    "print(s)"
   ]
  },
  {
   "cell_type": "code",
   "execution_count": 17,
   "id": "44fd09aa",
   "metadata": {},
   "outputs": [
    {
     "name": "stdout",
     "output_type": "stream",
     "text": [
      "xy\n",
      "x\n"
     ]
    }
   ],
   "source": [
    "s = input()\n",
    "req = s[0]\n",
    "maxi = 1\n",
    "for i in range(len(s)):\n",
    "    count = 0\n",
    "    for j in range(i+1,len(s)):\n",
    "        if s[i] == s[j]:\n",
    "            count = count+1\n",
    "    if maxi < count:\n",
    "        req = s[i]\n",
    "print(req)"
   ]
  },
  {
   "cell_type": "code",
   "execution_count": 11,
   "id": "09388f95",
   "metadata": {},
   "outputs": [
    {
     "name": "stdout",
     "output_type": "stream",
     "text": [
      "3\n",
      "[1, 3, 2]\n"
     ]
    }
   ],
   "source": [
    "n = int(input())\n",
    "arr = []\n",
    "for i in range(1,n+1,2):\n",
    "    arr.append(i)\n",
    "if n%2 == 0:\n",
    "    for i in range(n,1,-2):\n",
    "        arr.append(i)\n",
    "else:\n",
    "    for i in range(n-1,1,-2):\n",
    "        arr.append(i)\n",
    "print(arr)"
   ]
  },
  {
   "cell_type": "code",
   "execution_count": 14,
   "id": "1f981af7",
   "metadata": {},
   "outputs": [
    {
     "name": "stdout",
     "output_type": "stream",
     "text": [
      "13 17 5 4 6\n",
      "17 6\n"
     ]
    }
   ],
   "source": [
    "arr = [int(s) for s in input().split(\" \")]\n",
    "for i in range(len(arr)):\n",
    "    flag = False\n",
    "    for j in range(i+1,len(arr)):\n",
    "        if arr[i]<arr[j]:\n",
    "            break\n",
    "        if j == len(arr)-1:\n",
    "            flag = True\n",
    "    if flag == True:\n",
    "        print(arr[i],end=' ')\n",
    "print(arr[-1])"
   ]
  },
  {
   "cell_type": "code",
   "execution_count": 10,
   "id": "b65e3398",
   "metadata": {},
   "outputs": [
    {
     "name": "stdout",
     "output_type": "stream",
     "text": [
      "[[-3, 16, 25], [-9, 34, 55], [-15, 52, 85]]\n"
     ]
    }
   ],
   "source": [
    "m = int(input())\n",
    "n = int(input())\n",
    "p = int(input())\n",
    "\n",
    "# a = [[1, 2, 3], [4, 5, 6], [7, 8, 9]]\n",
    "a = []\n",
    "for i in range(m):\n",
    "    temp = [int(num) for num in input().split(\" \")]\n",
    "    a.append(temp)\n",
    "    \n",
    "# b = [[-1, 0, 1], [-1, 2, 3], [0, 4, 6]]\n",
    "b = []\n",
    "for i in range(n):\n",
    "    temp = [int(num) for num in input().split(\" \")]\n",
    "    b.append(temp)\n",
    "    \n",
    "c = []\n",
    "for k in range(m):\n",
    "    temp = []\n",
    "    for i in range(n):\n",
    "        sum = 0\n",
    "        for j in range(n):\n",
    "            sum = sum + a[k][j]*b[j][i]\n",
    "        temp.append(sum)\n",
    "    c.append(temp)\n",
    "print(c)"
   ]
  },
  {
   "cell_type": "code",
   "execution_count": 12,
   "id": "730e37bd",
   "metadata": {},
   "outputs": [
    {
     "name": "stdout",
     "output_type": "stream",
     "text": [
      "4\n",
      "0 1 2 3 7 11 15 14 13 12 8 4 5 6 10 9 "
     ]
    }
   ],
   "source": [
    "n = int(input())\n",
    "a = [[0,1,2,3],[4,5,6,7],[8,9,10,11],[12,13,14,15]]\n",
    "\n",
    "k = 0\n",
    "while k<n//2:\n",
    "    i = k\n",
    "    j = k\n",
    "    while j<n-k:\n",
    "        print(a[i][j],end=\" \")\n",
    "        j = j+1\n",
    "    i = i+1\n",
    "    j = j-1\n",
    "    while i<n-k:\n",
    "        print(a[i][j],end=\" \")\n",
    "        i = i+1\n",
    "    i = i-1\n",
    "    j = j-1\n",
    "    while j>=k:\n",
    "        print(a[i][j],end=\" \")\n",
    "        j = j-1\n",
    "    i = i-1\n",
    "    j = j+1\n",
    "    while i>=k+1:\n",
    "        print(a[i][j],end=\" \")\n",
    "        i = i-1\n",
    "    k = k+1"
   ]
  },
  {
   "cell_type": "code",
   "execution_count": 6,
   "id": "dbbd297a",
   "metadata": {},
   "outputs": [
    {
     "name": "stdout",
     "output_type": "stream",
     "text": [
      "3\n",
      "3\n",
      "3 6 9\n",
      "1 4 7\n",
      "2 8 9\n",
      "column 2 25\n"
     ]
    }
   ],
   "source": [
    "m = int(input())\n",
    "n = int(input())\n",
    "\n",
    "arr = []\n",
    "for i in range(n):\n",
    "    line = [int(i) for i in input().split(\" \")]\n",
    "    arr.append(line)\n",
    "\n",
    "ansRow = []\n",
    "for i in range(m):\n",
    "    sum = 0\n",
    "    for j in range(n):\n",
    "        sum = sum + arr[i][j]\n",
    "    ansRow.append(sum)\n",
    "\n",
    "ansCol = []\n",
    "for i in range(m):\n",
    "    sum = 0\n",
    "    for j in range(n):\n",
    "        sum = sum + arr[j][i]\n",
    "    ansCol.append(sum)\n",
    "\n",
    "maxRow = max(ansRow)\n",
    "maxRowIndex = ansRow.index(maxRow)\n",
    "maxCol = max(ansCol)\n",
    "maxColIndex = ansCol.index(maxCol)\n",
    "\n",
    "if maxRow >= maxCol:\n",
    "    print(\"row\",maxRowIndex,maxRow)\n",
    "else:\n",
    "    print(\"column\",maxColIndex,maxCol)"
   ]
  }
 ],
 "metadata": {
  "kernelspec": {
   "display_name": "Python 3 (ipykernel)",
   "language": "python",
   "name": "python3"
  },
  "language_info": {
   "codemirror_mode": {
    "name": "ipython",
    "version": 3
   },
   "file_extension": ".py",
   "mimetype": "text/x-python",
   "name": "python",
   "nbconvert_exporter": "python",
   "pygments_lexer": "ipython3",
   "version": "3.10.1"
  }
 },
 "nbformat": 4,
 "nbformat_minor": 5
}
